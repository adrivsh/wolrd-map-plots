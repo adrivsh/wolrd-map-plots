{
 "cells": [
  {
   "cell_type": "markdown",
   "metadata": {
    "ExecuteTime": {
     "end_time": "2016-02-29T18:00:41.559304",
     "start_time": "2016-02-29T18:00:41.553300"
    }
   },
   "source": [
    "In this notebook we use Python to draw maps of every single country in the world, as well as a map of the EU"
   ]
  },
  {
   "cell_type": "code",
   "execution_count": 1,
   "metadata": {
    "collapsed": false,
    "run_control": {
     "frozen": false,
     "read_only": false
    }
   },
   "outputs": [],
   "source": [
    "%load_ext autoreload\n",
    "%autoreload 2"
   ]
  },
  {
   "cell_type": "code",
   "execution_count": 2,
   "metadata": {
    "ExecuteTime": {
     "end_time": "2016-02-29T19:21:05.076569",
     "start_time": "2016-02-29T19:21:04.082457"
    },
    "collapsed": true,
    "run_control": {
     "frozen": false,
     "read_only": false
    }
   },
   "outputs": [],
   "source": [
    "#Standard python library. Manipulates Excel-like tables (called dataframes) with named rows and columns\n",
    "import pandas as pd"
   ]
  },
  {
   "cell_type": "markdown",
   "metadata": {},
   "source": [
    "# preparation"
   ]
  },
  {
   "cell_type": "markdown",
   "metadata": {},
   "source": [
    "## country dictionary"
   ]
  },
  {
   "cell_type": "code",
   "execution_count": 3,
   "metadata": {
    "collapsed": false,
    "run_control": {
     "frozen": false,
     "read_only": false
    }
   },
   "outputs": [
    {
     "data": {
      "text/html": [
       "<div>\n",
       "<table border=\"1\" class=\"dataframe\">\n",
       "  <thead>\n",
       "    <tr style=\"text-align: right;\">\n",
       "      <th></th>\n",
       "      <th>country</th>\n",
       "    </tr>\n",
       "    <tr>\n",
       "      <th>iso3</th>\n",
       "      <th></th>\n",
       "    </tr>\n",
       "  </thead>\n",
       "  <tbody>\n",
       "    <tr>\n",
       "      <th>ABW</th>\n",
       "      <td>Aruba</td>\n",
       "    </tr>\n",
       "    <tr>\n",
       "      <th>AFG</th>\n",
       "      <td>Afghanistan</td>\n",
       "    </tr>\n",
       "    <tr>\n",
       "      <th>AGO</th>\n",
       "      <td>Angola</td>\n",
       "    </tr>\n",
       "    <tr>\n",
       "      <th>AIA</th>\n",
       "      <td>Anguilla</td>\n",
       "    </tr>\n",
       "    <tr>\n",
       "      <th>ALB</th>\n",
       "      <td>Albania</td>\n",
       "    </tr>\n",
       "  </tbody>\n",
       "</table>\n",
       "</div>"
      ],
      "text/plain": [
       "          country\n",
       "iso3             \n",
       "ABW         Aruba\n",
       "AFG   Afghanistan\n",
       "AGO        Angola\n",
       "AIA      Anguilla\n",
       "ALB       Albania"
      ]
     },
     "execution_count": 3,
     "metadata": {},
     "output_type": "execute_result"
    }
   ],
   "source": [
    "iso_to_wb = pd.read_csv(\"https://raw.githubusercontent.com/adrivsh/country_names/master/iso3_to_wb_name.csv\", index_col=\"iso3\")\n",
    "iso_to_wb.head()"
   ]
  },
  {
   "cell_type": "code",
   "execution_count": 4,
   "metadata": {
    "collapsed": true,
    "run_control": {
     "frozen": false,
     "read_only": false
    }
   },
   "outputs": [],
   "source": [
    "from replace_with_warning import replace_with_warning"
   ]
  },
  {
   "cell_type": "markdown",
   "metadata": {
    "ExecuteTime": {
     "end_time": "2016-02-29T19:21:06.028383",
     "start_time": "2016-02-29T19:21:05.304232"
    },
    "collapsed": false
   },
   "source": [
    "## Mapping libraries"
   ]
  },
  {
   "cell_type": "markdown",
   "metadata": {},
   "source": [
    "The following library, coded for this project, allows to plot maps. It produces [SVG](https://en.wikipedia.org/wiki/Scalable_Vector_Graphics) maps, that can be visualized in a browser, out of the box. \n",
    "\n",
    "It can also automatically transform those SVG maps into [png](https://en.wikipedia.org/wiki/Portable_Network_Graphics) maps, provided the free softaware [Inkspace](https://inkscape.org/en/download/) is installed on your computer. \n",
    "Finally, to automatically merge the map and the legend in a single file, it requires [ImageMagick](http://www.imagemagick.org/script/index.php).\n",
    "\n",
    "\n"
   ]
  },
  {
   "cell_type": "code",
   "execution_count": 5,
   "metadata": {
    "collapsed": true,
    "run_control": {
     "frozen": false,
     "read_only": false
    }
   },
   "outputs": [],
   "source": [
    "from maps_lib import * "
   ]
  },
  {
   "cell_type": "code",
   "execution_count": 6,
   "metadata": {
    "ExecuteTime": {
     "end_time": "2016-02-29T19:21:06.212223",
     "start_time": "2016-02-29T19:21:06.032384"
    },
    "collapsed": true,
    "run_control": {
     "frozen": false,
     "read_only": false
    }
   },
   "outputs": [],
   "source": [
    "#ploting capacities\n",
    "import matplotlib.pyplot as plt \n",
    "#make plots appear in this notebook\n",
    "%matplotlib inline  "
   ]
  },
  {
   "cell_type": "code",
   "execution_count": 7,
   "metadata": {
    "collapsed": true,
    "run_control": {
     "frozen": false,
     "read_only": false
    }
   },
   "outputs": [],
   "source": [
    "svg_to_use = \"FRA_guyana_ok\"\n",
    "# svg_to_use = \"Boundaries_in_asia_and_more_detail\""
   ]
  },
  {
   "cell_type": "markdown",
   "metadata": {},
   "source": [
    "## Base world map"
   ]
  },
  {
   "cell_type": "code",
   "execution_count": 12,
   "metadata": {
    "collapsed": false,
    "run_control": {
     "frozen": false,
     "read_only": false
    }
   },
   "outputs": [],
   "source": [
    "from tempfile import mkstemp\n",
    "from shutil import move\n",
    "from os import remove, close\n",
    "\n",
    "def replace(file_path, new_path, pattern, subst):\n",
    "    #Create temp file\n",
    "    fh, abs_path = mkstemp()\n",
    "    with open(abs_path,'w') as new_file:\n",
    "        with open(file_path) as old_file:\n",
    "            for line in old_file:\n",
    "                new_file.write(line.replace(pattern, subst))\n",
    "    close(fh)\n",
    "    #Move new file\n",
    "    move(abs_path, new_path)\n",
    "\n",
    "if svg_to_use == \"Boundaries_in_asia_and_more_detail\":\n",
    "        #copies from map with french guyana to new one, with smaller (less thick) boundaries    \n",
    "    replace(\"world-original.svg\",\"world-original_thin.svg\",\".5px\",\".1px\")\n",
    "elif svg_to_use == \"FRA_guyana_ok\":    \n",
    "    #copies from map with french guyana to new one, with smaller (less thick) boundaries    \n",
    "    replace(\"world-fra.svg\",\"world-original_thin.svg\",\".5px\",\".1px\")\n",
    "else:\n",
    "    error, \"use one of the above options\"\n",
    "    \n",
    "    \n",
    "#changes the colors of the boundaries and fill \n",
    "replace(\"world-original_thin.svg\",\"world-original_thin.svg\",\"stroke: #666\",\"stroke: #6ec8bb\")#ccc\n",
    "replace(\"world-original_thin.svg\",\"world-original_thin.svg\",\"fill: #ccc\",\"fill: #b7e1da\")\n",
    "replace(\"world-original_thin.svg\",\"world-original_thin.svg\",\"fill: #E0E0E0\",\"fill: #b7e1da\")\n",
    "\n",
    "\n",
    "outfolder_name = svg_to_use+\"/\"\n"
   ]
  },
  {
   "cell_type": "markdown",
   "metadata": {
    "collapsed": true
   },
   "source": [
    "# Country per country and EU shadow maps"
   ]
  },
  {
   "cell_type": "code",
   "execution_count": 13,
   "metadata": {
    "collapsed": false,
    "run_control": {
     "frozen": false,
     "read_only": false
    }
   },
   "outputs": [],
   "source": [
    "os.makedirs(outfolder_name, exist_ok=True)"
   ]
  },
  {
   "cell_type": "code",
   "execution_count": 14,
   "metadata": {
    "collapsed": false,
    "run_control": {
     "frozen": false,
     "read_only": false
    }
   },
   "outputs": [
    {
     "data": {
      "text/html": [
       "<div>\n",
       "<table border=\"1\" class=\"dataframe\">\n",
       "  <thead>\n",
       "    <tr style=\"text-align: right;\">\n",
       "      <th></th>\n",
       "      <th>value</th>\n",
       "    </tr>\n",
       "    <tr>\n",
       "      <th>iso3</th>\n",
       "      <th></th>\n",
       "    </tr>\n",
       "  </thead>\n",
       "  <tbody>\n",
       "    <tr>\n",
       "      <th>ABW</th>\n",
       "      <td>0</td>\n",
       "    </tr>\n",
       "    <tr>\n",
       "      <th>AFG</th>\n",
       "      <td>0</td>\n",
       "    </tr>\n",
       "    <tr>\n",
       "      <th>AGO</th>\n",
       "      <td>0</td>\n",
       "    </tr>\n",
       "    <tr>\n",
       "      <th>AIA</th>\n",
       "      <td>0</td>\n",
       "    </tr>\n",
       "    <tr>\n",
       "      <th>ALB</th>\n",
       "      <td>0</td>\n",
       "    </tr>\n",
       "  </tbody>\n",
       "</table>\n",
       "</div>"
      ],
      "text/plain": [
       "      value\n",
       "iso3       \n",
       "ABW       0\n",
       "AFG       0\n",
       "AGO       0\n",
       "AIA       0\n",
       "ALB       0"
      ]
     },
     "execution_count": 14,
     "metadata": {},
     "output_type": "execute_result"
    }
   ],
   "source": [
    "countries = pd.DataFrame(0,index=iso_to_wb.index, columns=[\"value\"])\n",
    "countries.head()"
   ]
  },
  {
   "cell_type": "code",
   "execution_count": null,
   "metadata": {
    "collapsed": true
   },
   "outputs": [],
   "source": [
    "\"a\"<\"z\""
   ]
  },
  {
   "cell_type": "code",
   "execution_count": null,
   "metadata": {
    "collapsed": false,
    "run_control": {
     "frozen": false,
     "read_only": false
    }
   },
   "outputs": [
    {
     "data": {
      "text/html": [
       "<a target='_blank' href='FRA_guyana_ok/map_of_Aruba.svg'>SVG Map of the world highlighting Aruba</a>"
      ],
      "text/plain": [
       "<IPython.core.display.HTML object>"
      ]
     },
     "metadata": {},
     "output_type": "display_data"
    },
    {
     "data": {
      "text/html": [
       "<a target='_blank' href='FRA_guyana_ok/map_of_Aruba.pdf'>PDF Map of the world highlighting Aruba</a>"
      ],
      "text/plain": [
       "<IPython.core.display.HTML object>"
      ]
     },
     "metadata": {},
     "output_type": "display_data"
    },
    {
     "data": {
      "text/html": [
       "<a target='_blank' href='FRA_guyana_ok/map_of_Afghanistan.svg'>SVG Map of the world highlighting Afghanistan</a>"
      ],
      "text/plain": [
       "<IPython.core.display.HTML object>"
      ]
     },
     "metadata": {},
     "output_type": "display_data"
    },
    {
     "data": {
      "text/html": [
       "<a target='_blank' href='FRA_guyana_ok/map_of_Afghanistan.pdf'>PDF Map of the world highlighting Afghanistan</a>"
      ],
      "text/plain": [
       "<IPython.core.display.HTML object>"
      ]
     },
     "metadata": {},
     "output_type": "display_data"
    },
    {
     "data": {
      "text/html": [
       "<a target='_blank' href='FRA_guyana_ok/map_of_Angola.svg'>SVG Map of the world highlighting Angola</a>"
      ],
      "text/plain": [
       "<IPython.core.display.HTML object>"
      ]
     },
     "metadata": {},
     "output_type": "display_data"
    },
    {
     "data": {
      "text/html": [
       "<a target='_blank' href='FRA_guyana_ok/map_of_Angola.pdf'>PDF Map of the world highlighting Angola</a>"
      ],
      "text/plain": [
       "<IPython.core.display.HTML object>"
      ]
     },
     "metadata": {},
     "output_type": "display_data"
    },
    {
     "data": {
      "text/html": [
       "<a target='_blank' href='FRA_guyana_ok/map_of_Anguilla.svg'>SVG Map of the world highlighting Anguilla</a>"
      ],
      "text/plain": [
       "<IPython.core.display.HTML object>"
      ]
     },
     "metadata": {},
     "output_type": "display_data"
    },
    {
     "data": {
      "text/html": [
       "<a target='_blank' href='FRA_guyana_ok/map_of_Anguilla.pdf'>PDF Map of the world highlighting Anguilla</a>"
      ],
      "text/plain": [
       "<IPython.core.display.HTML object>"
      ]
     },
     "metadata": {},
     "output_type": "display_data"
    },
    {
     "data": {
      "text/html": [
       "<a target='_blank' href='FRA_guyana_ok/map_of_Albania.svg'>SVG Map of the world highlighting Albania</a>"
      ],
      "text/plain": [
       "<IPython.core.display.HTML object>"
      ]
     },
     "metadata": {},
     "output_type": "display_data"
    },
    {
     "data": {
      "text/html": [
       "<a target='_blank' href='FRA_guyana_ok/map_of_Albania.pdf'>PDF Map of the world highlighting Albania</a>"
      ],
      "text/plain": [
       "<IPython.core.display.HTML object>"
      ]
     },
     "metadata": {},
     "output_type": "display_data"
    },
    {
     "data": {
      "text/html": [
       "<a target='_blank' href='FRA_guyana_ok/map_of_Andorra.svg'>SVG Map of the world highlighting Andorra</a>"
      ],
      "text/plain": [
       "<IPython.core.display.HTML object>"
      ]
     },
     "metadata": {},
     "output_type": "display_data"
    },
    {
     "data": {
      "text/html": [
       "<a target='_blank' href='FRA_guyana_ok/map_of_Andorra.pdf'>PDF Map of the world highlighting Andorra</a>"
      ],
      "text/plain": [
       "<IPython.core.display.HTML object>"
      ]
     },
     "metadata": {},
     "output_type": "display_data"
    },
    {
     "data": {
      "text/html": [
       "<a target='_blank' href='FRA_guyana_ok/map_of_United Arab Emirates.svg'>SVG Map of the world highlighting United Arab Emirates</a>"
      ],
      "text/plain": [
       "<IPython.core.display.HTML object>"
      ]
     },
     "metadata": {},
     "output_type": "display_data"
    },
    {
     "data": {
      "text/html": [
       "<a target='_blank' href='FRA_guyana_ok/map_of_United Arab Emirates.pdf'>PDF Map of the world highlighting United Arab Emirates</a>"
      ],
      "text/plain": [
       "<IPython.core.display.HTML object>"
      ]
     },
     "metadata": {},
     "output_type": "display_data"
    },
    {
     "data": {
      "text/html": [
       "<a target='_blank' href='FRA_guyana_ok/map_of_Argentina.svg'>SVG Map of the world highlighting Argentina</a>"
      ],
      "text/plain": [
       "<IPython.core.display.HTML object>"
      ]
     },
     "metadata": {},
     "output_type": "display_data"
    },
    {
     "data": {
      "text/html": [
       "<a target='_blank' href='FRA_guyana_ok/map_of_Argentina.pdf'>PDF Map of the world highlighting Argentina</a>"
      ],
      "text/plain": [
       "<IPython.core.display.HTML object>"
      ]
     },
     "metadata": {},
     "output_type": "display_data"
    },
    {
     "data": {
      "text/html": [
       "<a target='_blank' href='FRA_guyana_ok/map_of_Armenia.svg'>SVG Map of the world highlighting Armenia</a>"
      ],
      "text/plain": [
       "<IPython.core.display.HTML object>"
      ]
     },
     "metadata": {},
     "output_type": "display_data"
    },
    {
     "data": {
      "text/html": [
       "<a target='_blank' href='FRA_guyana_ok/map_of_Armenia.pdf'>PDF Map of the world highlighting Armenia</a>"
      ],
      "text/plain": [
       "<IPython.core.display.HTML object>"
      ]
     },
     "metadata": {},
     "output_type": "display_data"
    },
    {
     "data": {
      "text/html": [
       "<a target='_blank' href='FRA_guyana_ok/map_of_American Samoa.svg'>SVG Map of the world highlighting American Samoa</a>"
      ],
      "text/plain": [
       "<IPython.core.display.HTML object>"
      ]
     },
     "metadata": {},
     "output_type": "display_data"
    },
    {
     "data": {
      "text/html": [
       "<a target='_blank' href='FRA_guyana_ok/map_of_American Samoa.pdf'>PDF Map of the world highlighting American Samoa</a>"
      ],
      "text/plain": [
       "<IPython.core.display.HTML object>"
      ]
     },
     "metadata": {},
     "output_type": "display_data"
    },
    {
     "data": {
      "text/html": [
       "<a target='_blank' href='FRA_guyana_ok/map_of_Antigua and Barbuda.svg'>SVG Map of the world highlighting Antigua and Barbuda</a>"
      ],
      "text/plain": [
       "<IPython.core.display.HTML object>"
      ]
     },
     "metadata": {},
     "output_type": "display_data"
    },
    {
     "data": {
      "text/html": [
       "<a target='_blank' href='FRA_guyana_ok/map_of_Antigua and Barbuda.pdf'>PDF Map of the world highlighting Antigua and Barbuda</a>"
      ],
      "text/plain": [
       "<IPython.core.display.HTML object>"
      ]
     },
     "metadata": {},
     "output_type": "display_data"
    },
    {
     "data": {
      "text/html": [
       "<a target='_blank' href='FRA_guyana_ok/map_of_Australia.svg'>SVG Map of the world highlighting Australia</a>"
      ],
      "text/plain": [
       "<IPython.core.display.HTML object>"
      ]
     },
     "metadata": {},
     "output_type": "display_data"
    },
    {
     "data": {
      "text/html": [
       "<a target='_blank' href='FRA_guyana_ok/map_of_Australia.pdf'>PDF Map of the world highlighting Australia</a>"
      ],
      "text/plain": [
       "<IPython.core.display.HTML object>"
      ]
     },
     "metadata": {},
     "output_type": "display_data"
    },
    {
     "data": {
      "text/html": [
       "<a target='_blank' href='FRA_guyana_ok/map_of_Austria.svg'>SVG Map of the world highlighting Austria</a>"
      ],
      "text/plain": [
       "<IPython.core.display.HTML object>"
      ]
     },
     "metadata": {},
     "output_type": "display_data"
    },
    {
     "data": {
      "text/html": [
       "<a target='_blank' href='FRA_guyana_ok/map_of_Austria.pdf'>PDF Map of the world highlighting Austria</a>"
      ],
      "text/plain": [
       "<IPython.core.display.HTML object>"
      ]
     },
     "metadata": {},
     "output_type": "display_data"
    },
    {
     "data": {
      "text/html": [
       "<a target='_blank' href='FRA_guyana_ok/map_of_Azerbaijan.svg'>SVG Map of the world highlighting Azerbaijan</a>"
      ],
      "text/plain": [
       "<IPython.core.display.HTML object>"
      ]
     },
     "metadata": {},
     "output_type": "display_data"
    },
    {
     "data": {
      "text/html": [
       "<a target='_blank' href='FRA_guyana_ok/map_of_Azerbaijan.pdf'>PDF Map of the world highlighting Azerbaijan</a>"
      ],
      "text/plain": [
       "<IPython.core.display.HTML object>"
      ]
     },
     "metadata": {},
     "output_type": "display_data"
    },
    {
     "data": {
      "text/html": [
       "<a target='_blank' href='FRA_guyana_ok/map_of_Burundi.svg'>SVG Map of the world highlighting Burundi</a>"
      ],
      "text/plain": [
       "<IPython.core.display.HTML object>"
      ]
     },
     "metadata": {},
     "output_type": "display_data"
    },
    {
     "data": {
      "text/html": [
       "<a target='_blank' href='FRA_guyana_ok/map_of_Burundi.pdf'>PDF Map of the world highlighting Burundi</a>"
      ],
      "text/plain": [
       "<IPython.core.display.HTML object>"
      ]
     },
     "metadata": {},
     "output_type": "display_data"
    },
    {
     "data": {
      "text/html": [
       "<a target='_blank' href='FRA_guyana_ok/map_of_Belgium.svg'>SVG Map of the world highlighting Belgium</a>"
      ],
      "text/plain": [
       "<IPython.core.display.HTML object>"
      ]
     },
     "metadata": {},
     "output_type": "display_data"
    },
    {
     "data": {
      "text/html": [
       "<a target='_blank' href='FRA_guyana_ok/map_of_Belgium.pdf'>PDF Map of the world highlighting Belgium</a>"
      ],
      "text/plain": [
       "<IPython.core.display.HTML object>"
      ]
     },
     "metadata": {},
     "output_type": "display_data"
    },
    {
     "data": {
      "text/html": [
       "<a target='_blank' href='FRA_guyana_ok/map_of_Benin.svg'>SVG Map of the world highlighting Benin</a>"
      ],
      "text/plain": [
       "<IPython.core.display.HTML object>"
      ]
     },
     "metadata": {},
     "output_type": "display_data"
    },
    {
     "data": {
      "text/html": [
       "<a target='_blank' href='FRA_guyana_ok/map_of_Benin.pdf'>PDF Map of the world highlighting Benin</a>"
      ],
      "text/plain": [
       "<IPython.core.display.HTML object>"
      ]
     },
     "metadata": {},
     "output_type": "display_data"
    },
    {
     "data": {
      "text/html": [
       "<a target='_blank' href='FRA_guyana_ok/map_of_Burkina Faso.svg'>SVG Map of the world highlighting Burkina Faso</a>"
      ],
      "text/plain": [
       "<IPython.core.display.HTML object>"
      ]
     },
     "metadata": {},
     "output_type": "display_data"
    },
    {
     "data": {
      "text/html": [
       "<a target='_blank' href='FRA_guyana_ok/map_of_Burkina Faso.pdf'>PDF Map of the world highlighting Burkina Faso</a>"
      ],
      "text/plain": [
       "<IPython.core.display.HTML object>"
      ]
     },
     "metadata": {},
     "output_type": "display_data"
    },
    {
     "data": {
      "text/html": [
       "<a target='_blank' href='FRA_guyana_ok/map_of_Bangladesh.svg'>SVG Map of the world highlighting Bangladesh</a>"
      ],
      "text/plain": [
       "<IPython.core.display.HTML object>"
      ]
     },
     "metadata": {},
     "output_type": "display_data"
    },
    {
     "data": {
      "text/html": [
       "<a target='_blank' href='FRA_guyana_ok/map_of_Bangladesh.pdf'>PDF Map of the world highlighting Bangladesh</a>"
      ],
      "text/plain": [
       "<IPython.core.display.HTML object>"
      ]
     },
     "metadata": {},
     "output_type": "display_data"
    },
    {
     "data": {
      "text/html": [
       "<a target='_blank' href='FRA_guyana_ok/map_of_Bulgaria.svg'>SVG Map of the world highlighting Bulgaria</a>"
      ],
      "text/plain": [
       "<IPython.core.display.HTML object>"
      ]
     },
     "metadata": {},
     "output_type": "display_data"
    },
    {
     "data": {
      "text/html": [
       "<a target='_blank' href='FRA_guyana_ok/map_of_Bulgaria.pdf'>PDF Map of the world highlighting Bulgaria</a>"
      ],
      "text/plain": [
       "<IPython.core.display.HTML object>"
      ]
     },
     "metadata": {},
     "output_type": "display_data"
    },
    {
     "data": {
      "text/html": [
       "<a target='_blank' href='FRA_guyana_ok/map_of_Bahrain.svg'>SVG Map of the world highlighting Bahrain</a>"
      ],
      "text/plain": [
       "<IPython.core.display.HTML object>"
      ]
     },
     "metadata": {},
     "output_type": "display_data"
    },
    {
     "data": {
      "text/html": [
       "<a target='_blank' href='FRA_guyana_ok/map_of_Bahrain.pdf'>PDF Map of the world highlighting Bahrain</a>"
      ],
      "text/plain": [
       "<IPython.core.display.HTML object>"
      ]
     },
     "metadata": {},
     "output_type": "display_data"
    },
    {
     "data": {
      "text/html": [
       "<a target='_blank' href='FRA_guyana_ok/map_of_Bahamas, The.svg'>SVG Map of the world highlighting Bahamas, The</a>"
      ],
      "text/plain": [
       "<IPython.core.display.HTML object>"
      ]
     },
     "metadata": {},
     "output_type": "display_data"
    },
    {
     "data": {
      "text/html": [
       "<a target='_blank' href='FRA_guyana_ok/map_of_Bahamas, The.pdf'>PDF Map of the world highlighting Bahamas, The</a>"
      ],
      "text/plain": [
       "<IPython.core.display.HTML object>"
      ]
     },
     "metadata": {},
     "output_type": "display_data"
    },
    {
     "data": {
      "text/html": [
       "<a target='_blank' href='FRA_guyana_ok/map_of_Bosnia and Herzegovina.svg'>SVG Map of the world highlighting Bosnia and Herzegovina</a>"
      ],
      "text/plain": [
       "<IPython.core.display.HTML object>"
      ]
     },
     "metadata": {},
     "output_type": "display_data"
    },
    {
     "data": {
      "text/html": [
       "<a target='_blank' href='FRA_guyana_ok/map_of_Bosnia and Herzegovina.pdf'>PDF Map of the world highlighting Bosnia and Herzegovina</a>"
      ],
      "text/plain": [
       "<IPython.core.display.HTML object>"
      ]
     },
     "metadata": {},
     "output_type": "display_data"
    },
    {
     "data": {
      "text/html": [
       "<a target='_blank' href='FRA_guyana_ok/map_of_Belarus.svg'>SVG Map of the world highlighting Belarus</a>"
      ],
      "text/plain": [
       "<IPython.core.display.HTML object>"
      ]
     },
     "metadata": {},
     "output_type": "display_data"
    },
    {
     "data": {
      "text/html": [
       "<a target='_blank' href='FRA_guyana_ok/map_of_Belarus.pdf'>PDF Map of the world highlighting Belarus</a>"
      ],
      "text/plain": [
       "<IPython.core.display.HTML object>"
      ]
     },
     "metadata": {},
     "output_type": "display_data"
    },
    {
     "data": {
      "text/html": [
       "<a target='_blank' href='FRA_guyana_ok/map_of_Belize.svg'>SVG Map of the world highlighting Belize</a>"
      ],
      "text/plain": [
       "<IPython.core.display.HTML object>"
      ]
     },
     "metadata": {},
     "output_type": "display_data"
    },
    {
     "data": {
      "text/html": [
       "<a target='_blank' href='FRA_guyana_ok/map_of_Belize.pdf'>PDF Map of the world highlighting Belize</a>"
      ],
      "text/plain": [
       "<IPython.core.display.HTML object>"
      ]
     },
     "metadata": {},
     "output_type": "display_data"
    },
    {
     "data": {
      "text/html": [
       "<a target='_blank' href='FRA_guyana_ok/map_of_Bermuda.svg'>SVG Map of the world highlighting Bermuda</a>"
      ],
      "text/plain": [
       "<IPython.core.display.HTML object>"
      ]
     },
     "metadata": {},
     "output_type": "display_data"
    },
    {
     "data": {
      "text/html": [
       "<a target='_blank' href='FRA_guyana_ok/map_of_Bermuda.pdf'>PDF Map of the world highlighting Bermuda</a>"
      ],
      "text/plain": [
       "<IPython.core.display.HTML object>"
      ]
     },
     "metadata": {},
     "output_type": "display_data"
    },
    {
     "data": {
      "text/html": [
       "<a target='_blank' href='FRA_guyana_ok/map_of_Bolivia.svg'>SVG Map of the world highlighting Bolivia</a>"
      ],
      "text/plain": [
       "<IPython.core.display.HTML object>"
      ]
     },
     "metadata": {},
     "output_type": "display_data"
    },
    {
     "data": {
      "text/html": [
       "<a target='_blank' href='FRA_guyana_ok/map_of_Bolivia.pdf'>PDF Map of the world highlighting Bolivia</a>"
      ],
      "text/plain": [
       "<IPython.core.display.HTML object>"
      ]
     },
     "metadata": {},
     "output_type": "display_data"
    },
    {
     "data": {
      "text/html": [
       "<a target='_blank' href='FRA_guyana_ok/map_of_Brazil.svg'>SVG Map of the world highlighting Brazil</a>"
      ],
      "text/plain": [
       "<IPython.core.display.HTML object>"
      ]
     },
     "metadata": {},
     "output_type": "display_data"
    },
    {
     "data": {
      "text/html": [
       "<a target='_blank' href='FRA_guyana_ok/map_of_Brazil.pdf'>PDF Map of the world highlighting Brazil</a>"
      ],
      "text/plain": [
       "<IPython.core.display.HTML object>"
      ]
     },
     "metadata": {},
     "output_type": "display_data"
    },
    {
     "data": {
      "text/html": [
       "<a target='_blank' href='FRA_guyana_ok/map_of_Barbados.svg'>SVG Map of the world highlighting Barbados</a>"
      ],
      "text/plain": [
       "<IPython.core.display.HTML object>"
      ]
     },
     "metadata": {},
     "output_type": "display_data"
    },
    {
     "data": {
      "text/html": [
       "<a target='_blank' href='FRA_guyana_ok/map_of_Barbados.pdf'>PDF Map of the world highlighting Barbados</a>"
      ],
      "text/plain": [
       "<IPython.core.display.HTML object>"
      ]
     },
     "metadata": {},
     "output_type": "display_data"
    },
    {
     "data": {
      "text/html": [
       "<a target='_blank' href='FRA_guyana_ok/map_of_Brunei Darussalam.svg'>SVG Map of the world highlighting Brunei Darussalam</a>"
      ],
      "text/plain": [
       "<IPython.core.display.HTML object>"
      ]
     },
     "metadata": {},
     "output_type": "display_data"
    },
    {
     "data": {
      "text/html": [
       "<a target='_blank' href='FRA_guyana_ok/map_of_Brunei Darussalam.pdf'>PDF Map of the world highlighting Brunei Darussalam</a>"
      ],
      "text/plain": [
       "<IPython.core.display.HTML object>"
      ]
     },
     "metadata": {},
     "output_type": "display_data"
    },
    {
     "data": {
      "text/html": [
       "<a target='_blank' href='FRA_guyana_ok/map_of_Bhutan.svg'>SVG Map of the world highlighting Bhutan</a>"
      ],
      "text/plain": [
       "<IPython.core.display.HTML object>"
      ]
     },
     "metadata": {},
     "output_type": "display_data"
    },
    {
     "data": {
      "text/html": [
       "<a target='_blank' href='FRA_guyana_ok/map_of_Bhutan.pdf'>PDF Map of the world highlighting Bhutan</a>"
      ],
      "text/plain": [
       "<IPython.core.display.HTML object>"
      ]
     },
     "metadata": {},
     "output_type": "display_data"
    },
    {
     "data": {
      "text/html": [
       "<a target='_blank' href='FRA_guyana_ok/map_of_Botswana.svg'>SVG Map of the world highlighting Botswana</a>"
      ],
      "text/plain": [
       "<IPython.core.display.HTML object>"
      ]
     },
     "metadata": {},
     "output_type": "display_data"
    },
    {
     "data": {
      "text/html": [
       "<a target='_blank' href='FRA_guyana_ok/map_of_Botswana.pdf'>PDF Map of the world highlighting Botswana</a>"
      ],
      "text/plain": [
       "<IPython.core.display.HTML object>"
      ]
     },
     "metadata": {},
     "output_type": "display_data"
    },
    {
     "data": {
      "text/html": [
       "<a target='_blank' href='FRA_guyana_ok/map_of_Central African Republic.svg'>SVG Map of the world highlighting Central African Republic</a>"
      ],
      "text/plain": [
       "<IPython.core.display.HTML object>"
      ]
     },
     "metadata": {},
     "output_type": "display_data"
    },
    {
     "data": {
      "text/html": [
       "<a target='_blank' href='FRA_guyana_ok/map_of_Central African Republic.pdf'>PDF Map of the world highlighting Central African Republic</a>"
      ],
      "text/plain": [
       "<IPython.core.display.HTML object>"
      ]
     },
     "metadata": {},
     "output_type": "display_data"
    },
    {
     "data": {
      "text/html": [
       "<a target='_blank' href='FRA_guyana_ok/map_of_Canada.svg'>SVG Map of the world highlighting Canada</a>"
      ],
      "text/plain": [
       "<IPython.core.display.HTML object>"
      ]
     },
     "metadata": {},
     "output_type": "display_data"
    },
    {
     "data": {
      "text/html": [
       "<a target='_blank' href='FRA_guyana_ok/map_of_Canada.pdf'>PDF Map of the world highlighting Canada</a>"
      ],
      "text/plain": [
       "<IPython.core.display.HTML object>"
      ]
     },
     "metadata": {},
     "output_type": "display_data"
    },
    {
     "data": {
      "text/html": [
       "<a target='_blank' href='FRA_guyana_ok/map_of_Switzerland.svg'>SVG Map of the world highlighting Switzerland</a>"
      ],
      "text/plain": [
       "<IPython.core.display.HTML object>"
      ]
     },
     "metadata": {},
     "output_type": "display_data"
    },
    {
     "data": {
      "text/html": [
       "<a target='_blank' href='FRA_guyana_ok/map_of_Switzerland.pdf'>PDF Map of the world highlighting Switzerland</a>"
      ],
      "text/plain": [
       "<IPython.core.display.HTML object>"
      ]
     },
     "metadata": {},
     "output_type": "display_data"
    },
    {
     "data": {
      "text/html": [
       "<a target='_blank' href='FRA_guyana_ok/map_of_Chile.svg'>SVG Map of the world highlighting Chile</a>"
      ],
      "text/plain": [
       "<IPython.core.display.HTML object>"
      ]
     },
     "metadata": {},
     "output_type": "display_data"
    },
    {
     "data": {
      "text/html": [
       "<a target='_blank' href='FRA_guyana_ok/map_of_Chile.pdf'>PDF Map of the world highlighting Chile</a>"
      ],
      "text/plain": [
       "<IPython.core.display.HTML object>"
      ]
     },
     "metadata": {},
     "output_type": "display_data"
    },
    {
     "data": {
      "text/html": [
       "<a target='_blank' href='FRA_guyana_ok/map_of_China.svg'>SVG Map of the world highlighting China</a>"
      ],
      "text/plain": [
       "<IPython.core.display.HTML object>"
      ]
     },
     "metadata": {},
     "output_type": "display_data"
    },
    {
     "data": {
      "text/html": [
       "<a target='_blank' href='FRA_guyana_ok/map_of_China.pdf'>PDF Map of the world highlighting China</a>"
      ],
      "text/plain": [
       "<IPython.core.display.HTML object>"
      ]
     },
     "metadata": {},
     "output_type": "display_data"
    },
    {
     "data": {
      "text/html": [
       "<a target='_blank' href='FRA_guyana_ok/map_of_Cote d'Ivoire.svg'>SVG Map of the world highlighting Cote d'Ivoire</a>"
      ],
      "text/plain": [
       "<IPython.core.display.HTML object>"
      ]
     },
     "metadata": {},
     "output_type": "display_data"
    },
    {
     "data": {
      "text/html": [
       "<a target='_blank' href='FRA_guyana_ok/map_of_Cote d'Ivoire.pdf'>PDF Map of the world highlighting Cote d'Ivoire</a>"
      ],
      "text/plain": [
       "<IPython.core.display.HTML object>"
      ]
     },
     "metadata": {},
     "output_type": "display_data"
    },
    {
     "data": {
      "text/html": [
       "<a target='_blank' href='FRA_guyana_ok/map_of_Cameroon.svg'>SVG Map of the world highlighting Cameroon</a>"
      ],
      "text/plain": [
       "<IPython.core.display.HTML object>"
      ]
     },
     "metadata": {},
     "output_type": "display_data"
    },
    {
     "data": {
      "text/html": [
       "<a target='_blank' href='FRA_guyana_ok/map_of_Cameroon.pdf'>PDF Map of the world highlighting Cameroon</a>"
      ],
      "text/plain": [
       "<IPython.core.display.HTML object>"
      ]
     },
     "metadata": {},
     "output_type": "display_data"
    },
    {
     "data": {
      "text/html": [
       "<a target='_blank' href='FRA_guyana_ok/map_of_Congo, Dem. Rep..svg'>SVG Map of the world highlighting Congo, Dem. Rep.</a>"
      ],
      "text/plain": [
       "<IPython.core.display.HTML object>"
      ]
     },
     "metadata": {},
     "output_type": "display_data"
    },
    {
     "data": {
      "text/html": [
       "<a target='_blank' href='FRA_guyana_ok/map_of_Congo, Dem. Rep..pdf'>PDF Map of the world highlighting Congo, Dem. Rep.</a>"
      ],
      "text/plain": [
       "<IPython.core.display.HTML object>"
      ]
     },
     "metadata": {},
     "output_type": "display_data"
    },
    {
     "data": {
      "text/html": [
       "<a target='_blank' href='FRA_guyana_ok/map_of_Congo, Rep..svg'>SVG Map of the world highlighting Congo, Rep.</a>"
      ],
      "text/plain": [
       "<IPython.core.display.HTML object>"
      ]
     },
     "metadata": {},
     "output_type": "display_data"
    },
    {
     "data": {
      "text/html": [
       "<a target='_blank' href='FRA_guyana_ok/map_of_Congo, Rep..pdf'>PDF Map of the world highlighting Congo, Rep.</a>"
      ],
      "text/plain": [
       "<IPython.core.display.HTML object>"
      ]
     },
     "metadata": {},
     "output_type": "display_data"
    },
    {
     "data": {
      "text/html": [
       "<a target='_blank' href='FRA_guyana_ok/map_of_Cook Islands.svg'>SVG Map of the world highlighting Cook Islands</a>"
      ],
      "text/plain": [
       "<IPython.core.display.HTML object>"
      ]
     },
     "metadata": {},
     "output_type": "display_data"
    },
    {
     "data": {
      "text/html": [
       "<a target='_blank' href='FRA_guyana_ok/map_of_Cook Islands.pdf'>PDF Map of the world highlighting Cook Islands</a>"
      ],
      "text/plain": [
       "<IPython.core.display.HTML object>"
      ]
     },
     "metadata": {},
     "output_type": "display_data"
    },
    {
     "data": {
      "text/html": [
       "<a target='_blank' href='FRA_guyana_ok/map_of_Colombia.svg'>SVG Map of the world highlighting Colombia</a>"
      ],
      "text/plain": [
       "<IPython.core.display.HTML object>"
      ]
     },
     "metadata": {},
     "output_type": "display_data"
    },
    {
     "data": {
      "text/html": [
       "<a target='_blank' href='FRA_guyana_ok/map_of_Colombia.pdf'>PDF Map of the world highlighting Colombia</a>"
      ],
      "text/plain": [
       "<IPython.core.display.HTML object>"
      ]
     },
     "metadata": {},
     "output_type": "display_data"
    },
    {
     "data": {
      "text/html": [
       "<a target='_blank' href='FRA_guyana_ok/map_of_Comoros.svg'>SVG Map of the world highlighting Comoros</a>"
      ],
      "text/plain": [
       "<IPython.core.display.HTML object>"
      ]
     },
     "metadata": {},
     "output_type": "display_data"
    },
    {
     "data": {
      "text/html": [
       "<a target='_blank' href='FRA_guyana_ok/map_of_Comoros.pdf'>PDF Map of the world highlighting Comoros</a>"
      ],
      "text/plain": [
       "<IPython.core.display.HTML object>"
      ]
     },
     "metadata": {},
     "output_type": "display_data"
    },
    {
     "data": {
      "text/html": [
       "<a target='_blank' href='FRA_guyana_ok/map_of_Cape Verde.svg'>SVG Map of the world highlighting Cape Verde</a>"
      ],
      "text/plain": [
       "<IPython.core.display.HTML object>"
      ]
     },
     "metadata": {},
     "output_type": "display_data"
    },
    {
     "data": {
      "text/html": [
       "<a target='_blank' href='FRA_guyana_ok/map_of_Cape Verde.pdf'>PDF Map of the world highlighting Cape Verde</a>"
      ],
      "text/plain": [
       "<IPython.core.display.HTML object>"
      ]
     },
     "metadata": {},
     "output_type": "display_data"
    },
    {
     "data": {
      "text/html": [
       "<a target='_blank' href='FRA_guyana_ok/map_of_Costa Rica.svg'>SVG Map of the world highlighting Costa Rica</a>"
      ],
      "text/plain": [
       "<IPython.core.display.HTML object>"
      ]
     },
     "metadata": {},
     "output_type": "display_data"
    },
    {
     "data": {
      "text/html": [
       "<a target='_blank' href='FRA_guyana_ok/map_of_Costa Rica.pdf'>PDF Map of the world highlighting Costa Rica</a>"
      ],
      "text/plain": [
       "<IPython.core.display.HTML object>"
      ]
     },
     "metadata": {},
     "output_type": "display_data"
    },
    {
     "data": {
      "text/html": [
       "<a target='_blank' href='FRA_guyana_ok/map_of_Cuba.svg'>SVG Map of the world highlighting Cuba</a>"
      ],
      "text/plain": [
       "<IPython.core.display.HTML object>"
      ]
     },
     "metadata": {},
     "output_type": "display_data"
    },
    {
     "data": {
      "text/html": [
       "<a target='_blank' href='FRA_guyana_ok/map_of_Cuba.pdf'>PDF Map of the world highlighting Cuba</a>"
      ],
      "text/plain": [
       "<IPython.core.display.HTML object>"
      ]
     },
     "metadata": {},
     "output_type": "display_data"
    },
    {
     "data": {
      "text/html": [
       "<a target='_blank' href='FRA_guyana_ok/map_of_Cura袯.svg'>SVG Map of the world highlighting Cura袯</a>"
      ],
      "text/plain": [
       "<IPython.core.display.HTML object>"
      ]
     },
     "metadata": {},
     "output_type": "display_data"
    },
    {
     "data": {
      "text/html": [
       "<a target='_blank' href='FRA_guyana_ok/map_of_Cura袯.pdf'>PDF Map of the world highlighting Cura袯</a>"
      ],
      "text/plain": [
       "<IPython.core.display.HTML object>"
      ]
     },
     "metadata": {},
     "output_type": "display_data"
    },
    {
     "data": {
      "text/html": [
       "<a target='_blank' href='FRA_guyana_ok/map_of_Cayman Islands.svg'>SVG Map of the world highlighting Cayman Islands</a>"
      ],
      "text/plain": [
       "<IPython.core.display.HTML object>"
      ]
     },
     "metadata": {},
     "output_type": "display_data"
    },
    {
     "data": {
      "text/html": [
       "<a target='_blank' href='FRA_guyana_ok/map_of_Cayman Islands.pdf'>PDF Map of the world highlighting Cayman Islands</a>"
      ],
      "text/plain": [
       "<IPython.core.display.HTML object>"
      ]
     },
     "metadata": {},
     "output_type": "display_data"
    },
    {
     "data": {
      "text/html": [
       "<a target='_blank' href='FRA_guyana_ok/map_of_Cyprus.svg'>SVG Map of the world highlighting Cyprus</a>"
      ],
      "text/plain": [
       "<IPython.core.display.HTML object>"
      ]
     },
     "metadata": {},
     "output_type": "display_data"
    },
    {
     "data": {
      "text/html": [
       "<a target='_blank' href='FRA_guyana_ok/map_of_Cyprus.pdf'>PDF Map of the world highlighting Cyprus</a>"
      ],
      "text/plain": [
       "<IPython.core.display.HTML object>"
      ]
     },
     "metadata": {},
     "output_type": "display_data"
    },
    {
     "data": {
      "text/html": [
       "<a target='_blank' href='FRA_guyana_ok/map_of_Czech Republic.svg'>SVG Map of the world highlighting Czech Republic</a>"
      ],
      "text/plain": [
       "<IPython.core.display.HTML object>"
      ]
     },
     "metadata": {},
     "output_type": "display_data"
    },
    {
     "data": {
      "text/html": [
       "<a target='_blank' href='FRA_guyana_ok/map_of_Czech Republic.pdf'>PDF Map of the world highlighting Czech Republic</a>"
      ],
      "text/plain": [
       "<IPython.core.display.HTML object>"
      ]
     },
     "metadata": {},
     "output_type": "display_data"
    },
    {
     "data": {
      "text/html": [
       "<a target='_blank' href='FRA_guyana_ok/map_of_Germany.svg'>SVG Map of the world highlighting Germany</a>"
      ],
      "text/plain": [
       "<IPython.core.display.HTML object>"
      ]
     },
     "metadata": {},
     "output_type": "display_data"
    },
    {
     "data": {
      "text/html": [
       "<a target='_blank' href='FRA_guyana_ok/map_of_Germany.pdf'>PDF Map of the world highlighting Germany</a>"
      ],
      "text/plain": [
       "<IPython.core.display.HTML object>"
      ]
     },
     "metadata": {},
     "output_type": "display_data"
    },
    {
     "data": {
      "text/html": [
       "<a target='_blank' href='FRA_guyana_ok/map_of_Djibouti.svg'>SVG Map of the world highlighting Djibouti</a>"
      ],
      "text/plain": [
       "<IPython.core.display.HTML object>"
      ]
     },
     "metadata": {},
     "output_type": "display_data"
    },
    {
     "data": {
      "text/html": [
       "<a target='_blank' href='FRA_guyana_ok/map_of_Djibouti.pdf'>PDF Map of the world highlighting Djibouti</a>"
      ],
      "text/plain": [
       "<IPython.core.display.HTML object>"
      ]
     },
     "metadata": {},
     "output_type": "display_data"
    },
    {
     "data": {
      "text/html": [
       "<a target='_blank' href='FRA_guyana_ok/map_of_Dominica.svg'>SVG Map of the world highlighting Dominica</a>"
      ],
      "text/plain": [
       "<IPython.core.display.HTML object>"
      ]
     },
     "metadata": {},
     "output_type": "display_data"
    },
    {
     "data": {
      "text/html": [
       "<a target='_blank' href='FRA_guyana_ok/map_of_Dominica.pdf'>PDF Map of the world highlighting Dominica</a>"
      ],
      "text/plain": [
       "<IPython.core.display.HTML object>"
      ]
     },
     "metadata": {},
     "output_type": "display_data"
    },
    {
     "data": {
      "text/html": [
       "<a target='_blank' href='FRA_guyana_ok/map_of_Denmark.svg'>SVG Map of the world highlighting Denmark</a>"
      ],
      "text/plain": [
       "<IPython.core.display.HTML object>"
      ]
     },
     "metadata": {},
     "output_type": "display_data"
    },
    {
     "data": {
      "text/html": [
       "<a target='_blank' href='FRA_guyana_ok/map_of_Denmark.pdf'>PDF Map of the world highlighting Denmark</a>"
      ],
      "text/plain": [
       "<IPython.core.display.HTML object>"
      ]
     },
     "metadata": {},
     "output_type": "display_data"
    },
    {
     "data": {
      "text/html": [
       "<a target='_blank' href='FRA_guyana_ok/map_of_Dominican Republic.svg'>SVG Map of the world highlighting Dominican Republic</a>"
      ],
      "text/plain": [
       "<IPython.core.display.HTML object>"
      ]
     },
     "metadata": {},
     "output_type": "display_data"
    },
    {
     "data": {
      "text/html": [
       "<a target='_blank' href='FRA_guyana_ok/map_of_Dominican Republic.pdf'>PDF Map of the world highlighting Dominican Republic</a>"
      ],
      "text/plain": [
       "<IPython.core.display.HTML object>"
      ]
     },
     "metadata": {},
     "output_type": "display_data"
    },
    {
     "data": {
      "text/html": [
       "<a target='_blank' href='FRA_guyana_ok/map_of_Algeria.svg'>SVG Map of the world highlighting Algeria</a>"
      ],
      "text/plain": [
       "<IPython.core.display.HTML object>"
      ]
     },
     "metadata": {},
     "output_type": "display_data"
    },
    {
     "data": {
      "text/html": [
       "<a target='_blank' href='FRA_guyana_ok/map_of_Algeria.pdf'>PDF Map of the world highlighting Algeria</a>"
      ],
      "text/plain": [
       "<IPython.core.display.HTML object>"
      ]
     },
     "metadata": {},
     "output_type": "display_data"
    },
    {
     "data": {
      "text/html": [
       "<a target='_blank' href='FRA_guyana_ok/map_of_Ecuador.svg'>SVG Map of the world highlighting Ecuador</a>"
      ],
      "text/plain": [
       "<IPython.core.display.HTML object>"
      ]
     },
     "metadata": {},
     "output_type": "display_data"
    },
    {
     "data": {
      "text/html": [
       "<a target='_blank' href='FRA_guyana_ok/map_of_Ecuador.pdf'>PDF Map of the world highlighting Ecuador</a>"
      ],
      "text/plain": [
       "<IPython.core.display.HTML object>"
      ]
     },
     "metadata": {},
     "output_type": "display_data"
    },
    {
     "data": {
      "text/html": [
       "<a target='_blank' href='FRA_guyana_ok/map_of_Egypt, Arab Rep..svg'>SVG Map of the world highlighting Egypt, Arab Rep.</a>"
      ],
      "text/plain": [
       "<IPython.core.display.HTML object>"
      ]
     },
     "metadata": {},
     "output_type": "display_data"
    },
    {
     "data": {
      "text/html": [
       "<a target='_blank' href='FRA_guyana_ok/map_of_Egypt, Arab Rep..pdf'>PDF Map of the world highlighting Egypt, Arab Rep.</a>"
      ],
      "text/plain": [
       "<IPython.core.display.HTML object>"
      ]
     },
     "metadata": {},
     "output_type": "display_data"
    },
    {
     "data": {
      "text/html": [
       "<a target='_blank' href='FRA_guyana_ok/map_of_Eritrea.svg'>SVG Map of the world highlighting Eritrea</a>"
      ],
      "text/plain": [
       "<IPython.core.display.HTML object>"
      ]
     },
     "metadata": {},
     "output_type": "display_data"
    },
    {
     "data": {
      "text/html": [
       "<a target='_blank' href='FRA_guyana_ok/map_of_Eritrea.pdf'>PDF Map of the world highlighting Eritrea</a>"
      ],
      "text/plain": [
       "<IPython.core.display.HTML object>"
      ]
     },
     "metadata": {},
     "output_type": "display_data"
    },
    {
     "data": {
      "text/html": [
       "<a target='_blank' href='FRA_guyana_ok/map_of_Spain.svg'>SVG Map of the world highlighting Spain</a>"
      ],
      "text/plain": [
       "<IPython.core.display.HTML object>"
      ]
     },
     "metadata": {},
     "output_type": "display_data"
    },
    {
     "data": {
      "text/html": [
       "<a target='_blank' href='FRA_guyana_ok/map_of_Spain.pdf'>PDF Map of the world highlighting Spain</a>"
      ],
      "text/plain": [
       "<IPython.core.display.HTML object>"
      ]
     },
     "metadata": {},
     "output_type": "display_data"
    },
    {
     "data": {
      "text/html": [
       "<a target='_blank' href='FRA_guyana_ok/map_of_Estonia.svg'>SVG Map of the world highlighting Estonia</a>"
      ],
      "text/plain": [
       "<IPython.core.display.HTML object>"
      ]
     },
     "metadata": {},
     "output_type": "display_data"
    },
    {
     "data": {
      "text/html": [
       "<a target='_blank' href='FRA_guyana_ok/map_of_Estonia.pdf'>PDF Map of the world highlighting Estonia</a>"
      ],
      "text/plain": [
       "<IPython.core.display.HTML object>"
      ]
     },
     "metadata": {},
     "output_type": "display_data"
    },
    {
     "data": {
      "text/html": [
       "<a target='_blank' href='FRA_guyana_ok/map_of_Ethiopia.svg'>SVG Map of the world highlighting Ethiopia</a>"
      ],
      "text/plain": [
       "<IPython.core.display.HTML object>"
      ]
     },
     "metadata": {},
     "output_type": "display_data"
    },
    {
     "data": {
      "text/html": [
       "<a target='_blank' href='FRA_guyana_ok/map_of_Ethiopia.pdf'>PDF Map of the world highlighting Ethiopia</a>"
      ],
      "text/plain": [
       "<IPython.core.display.HTML object>"
      ]
     },
     "metadata": {},
     "output_type": "display_data"
    },
    {
     "data": {
      "text/html": [
       "<a target='_blank' href='FRA_guyana_ok/map_of_Finland.svg'>SVG Map of the world highlighting Finland</a>"
      ],
      "text/plain": [
       "<IPython.core.display.HTML object>"
      ]
     },
     "metadata": {},
     "output_type": "display_data"
    },
    {
     "data": {
      "text/html": [
       "<a target='_blank' href='FRA_guyana_ok/map_of_Finland.pdf'>PDF Map of the world highlighting Finland</a>"
      ],
      "text/plain": [
       "<IPython.core.display.HTML object>"
      ]
     },
     "metadata": {},
     "output_type": "display_data"
    },
    {
     "data": {
      "text/html": [
       "<a target='_blank' href='FRA_guyana_ok/map_of_Fiji.svg'>SVG Map of the world highlighting Fiji</a>"
      ],
      "text/plain": [
       "<IPython.core.display.HTML object>"
      ]
     },
     "metadata": {},
     "output_type": "display_data"
    },
    {
     "data": {
      "text/html": [
       "<a target='_blank' href='FRA_guyana_ok/map_of_Fiji.pdf'>PDF Map of the world highlighting Fiji</a>"
      ],
      "text/plain": [
       "<IPython.core.display.HTML object>"
      ]
     },
     "metadata": {},
     "output_type": "display_data"
    },
    {
     "data": {
      "text/html": [
       "<a target='_blank' href='FRA_guyana_ok/map_of_France.svg'>SVG Map of the world highlighting France</a>"
      ],
      "text/plain": [
       "<IPython.core.display.HTML object>"
      ]
     },
     "metadata": {},
     "output_type": "display_data"
    },
    {
     "data": {
      "text/html": [
       "<a target='_blank' href='FRA_guyana_ok/map_of_France.pdf'>PDF Map of the world highlighting France</a>"
      ],
      "text/plain": [
       "<IPython.core.display.HTML object>"
      ]
     },
     "metadata": {},
     "output_type": "display_data"
    },
    {
     "data": {
      "text/html": [
       "<a target='_blank' href='FRA_guyana_ok/map_of_Faeroe Islands.svg'>SVG Map of the world highlighting Faeroe Islands</a>"
      ],
      "text/plain": [
       "<IPython.core.display.HTML object>"
      ]
     },
     "metadata": {},
     "output_type": "display_data"
    },
    {
     "data": {
      "text/html": [
       "<a target='_blank' href='FRA_guyana_ok/map_of_Faeroe Islands.pdf'>PDF Map of the world highlighting Faeroe Islands</a>"
      ],
      "text/plain": [
       "<IPython.core.display.HTML object>"
      ]
     },
     "metadata": {},
     "output_type": "display_data"
    },
    {
     "data": {
      "text/html": [
       "<a target='_blank' href='FRA_guyana_ok/map_of_Micronesia, Fed. Sts..svg'>SVG Map of the world highlighting Micronesia, Fed. Sts.</a>"
      ],
      "text/plain": [
       "<IPython.core.display.HTML object>"
      ]
     },
     "metadata": {},
     "output_type": "display_data"
    },
    {
     "data": {
      "text/html": [
       "<a target='_blank' href='FRA_guyana_ok/map_of_Micronesia, Fed. Sts..pdf'>PDF Map of the world highlighting Micronesia, Fed. Sts.</a>"
      ],
      "text/plain": [
       "<IPython.core.display.HTML object>"
      ]
     },
     "metadata": {},
     "output_type": "display_data"
    },
    {
     "data": {
      "text/html": [
       "<a target='_blank' href='FRA_guyana_ok/map_of_Gabon.svg'>SVG Map of the world highlighting Gabon</a>"
      ],
      "text/plain": [
       "<IPython.core.display.HTML object>"
      ]
     },
     "metadata": {},
     "output_type": "display_data"
    },
    {
     "data": {
      "text/html": [
       "<a target='_blank' href='FRA_guyana_ok/map_of_Gabon.pdf'>PDF Map of the world highlighting Gabon</a>"
      ],
      "text/plain": [
       "<IPython.core.display.HTML object>"
      ]
     },
     "metadata": {},
     "output_type": "display_data"
    },
    {
     "data": {
      "text/html": [
       "<a target='_blank' href='FRA_guyana_ok/map_of_United Kingdom.svg'>SVG Map of the world highlighting United Kingdom</a>"
      ],
      "text/plain": [
       "<IPython.core.display.HTML object>"
      ]
     },
     "metadata": {},
     "output_type": "display_data"
    },
    {
     "data": {
      "text/html": [
       "<a target='_blank' href='FRA_guyana_ok/map_of_United Kingdom.pdf'>PDF Map of the world highlighting United Kingdom</a>"
      ],
      "text/plain": [
       "<IPython.core.display.HTML object>"
      ]
     },
     "metadata": {},
     "output_type": "display_data"
    },
    {
     "data": {
      "text/html": [
       "<a target='_blank' href='FRA_guyana_ok/map_of_Georgia.svg'>SVG Map of the world highlighting Georgia</a>"
      ],
      "text/plain": [
       "<IPython.core.display.HTML object>"
      ]
     },
     "metadata": {},
     "output_type": "display_data"
    },
    {
     "data": {
      "text/html": [
       "<a target='_blank' href='FRA_guyana_ok/map_of_Georgia.pdf'>PDF Map of the world highlighting Georgia</a>"
      ],
      "text/plain": [
       "<IPython.core.display.HTML object>"
      ]
     },
     "metadata": {},
     "output_type": "display_data"
    },
    {
     "data": {
      "text/html": [
       "<a target='_blank' href='FRA_guyana_ok/map_of_Ghana.svg'>SVG Map of the world highlighting Ghana</a>"
      ],
      "text/plain": [
       "<IPython.core.display.HTML object>"
      ]
     },
     "metadata": {},
     "output_type": "display_data"
    },
    {
     "data": {
      "text/html": [
       "<a target='_blank' href='FRA_guyana_ok/map_of_Ghana.pdf'>PDF Map of the world highlighting Ghana</a>"
      ],
      "text/plain": [
       "<IPython.core.display.HTML object>"
      ]
     },
     "metadata": {},
     "output_type": "display_data"
    },
    {
     "data": {
      "text/html": [
       "<a target='_blank' href='FRA_guyana_ok/map_of_Guinea.svg'>SVG Map of the world highlighting Guinea</a>"
      ],
      "text/plain": [
       "<IPython.core.display.HTML object>"
      ]
     },
     "metadata": {},
     "output_type": "display_data"
    },
    {
     "data": {
      "text/html": [
       "<a target='_blank' href='FRA_guyana_ok/map_of_Guinea.pdf'>PDF Map of the world highlighting Guinea</a>"
      ],
      "text/plain": [
       "<IPython.core.display.HTML object>"
      ]
     },
     "metadata": {},
     "output_type": "display_data"
    },
    {
     "data": {
      "text/html": [
       "<a target='_blank' href='FRA_guyana_ok/map_of_Gambia, The.svg'>SVG Map of the world highlighting Gambia, The</a>"
      ],
      "text/plain": [
       "<IPython.core.display.HTML object>"
      ]
     },
     "metadata": {},
     "output_type": "display_data"
    },
    {
     "data": {
      "text/html": [
       "<a target='_blank' href='FRA_guyana_ok/map_of_Gambia, The.pdf'>PDF Map of the world highlighting Gambia, The</a>"
      ],
      "text/plain": [
       "<IPython.core.display.HTML object>"
      ]
     },
     "metadata": {},
     "output_type": "display_data"
    },
    {
     "data": {
      "text/html": [
       "<a target='_blank' href='FRA_guyana_ok/map_of_Guinea-Bissau.svg'>SVG Map of the world highlighting Guinea-Bissau</a>"
      ],
      "text/plain": [
       "<IPython.core.display.HTML object>"
      ]
     },
     "metadata": {},
     "output_type": "display_data"
    },
    {
     "data": {
      "text/html": [
       "<a target='_blank' href='FRA_guyana_ok/map_of_Guinea-Bissau.pdf'>PDF Map of the world highlighting Guinea-Bissau</a>"
      ],
      "text/plain": [
       "<IPython.core.display.HTML object>"
      ]
     },
     "metadata": {},
     "output_type": "display_data"
    },
    {
     "data": {
      "text/html": [
       "<a target='_blank' href='FRA_guyana_ok/map_of_Equatorial Guinea.svg'>SVG Map of the world highlighting Equatorial Guinea</a>"
      ],
      "text/plain": [
       "<IPython.core.display.HTML object>"
      ]
     },
     "metadata": {},
     "output_type": "display_data"
    },
    {
     "data": {
      "text/html": [
       "<a target='_blank' href='FRA_guyana_ok/map_of_Equatorial Guinea.pdf'>PDF Map of the world highlighting Equatorial Guinea</a>"
      ],
      "text/plain": [
       "<IPython.core.display.HTML object>"
      ]
     },
     "metadata": {},
     "output_type": "display_data"
    },
    {
     "data": {
      "text/html": [
       "<a target='_blank' href='FRA_guyana_ok/map_of_Greece.svg'>SVG Map of the world highlighting Greece</a>"
      ],
      "text/plain": [
       "<IPython.core.display.HTML object>"
      ]
     },
     "metadata": {},
     "output_type": "display_data"
    },
    {
     "data": {
      "text/html": [
       "<a target='_blank' href='FRA_guyana_ok/map_of_Greece.pdf'>PDF Map of the world highlighting Greece</a>"
      ],
      "text/plain": [
       "<IPython.core.display.HTML object>"
      ]
     },
     "metadata": {},
     "output_type": "display_data"
    },
    {
     "data": {
      "text/html": [
       "<a target='_blank' href='FRA_guyana_ok/map_of_Grenada.svg'>SVG Map of the world highlighting Grenada</a>"
      ],
      "text/plain": [
       "<IPython.core.display.HTML object>"
      ]
     },
     "metadata": {},
     "output_type": "display_data"
    },
    {
     "data": {
      "text/html": [
       "<a target='_blank' href='FRA_guyana_ok/map_of_Grenada.pdf'>PDF Map of the world highlighting Grenada</a>"
      ],
      "text/plain": [
       "<IPython.core.display.HTML object>"
      ]
     },
     "metadata": {},
     "output_type": "display_data"
    },
    {
     "data": {
      "text/html": [
       "<a target='_blank' href='FRA_guyana_ok/map_of_Greenland.svg'>SVG Map of the world highlighting Greenland</a>"
      ],
      "text/plain": [
       "<IPython.core.display.HTML object>"
      ]
     },
     "metadata": {},
     "output_type": "display_data"
    },
    {
     "data": {
      "text/html": [
       "<a target='_blank' href='FRA_guyana_ok/map_of_Greenland.pdf'>PDF Map of the world highlighting Greenland</a>"
      ],
      "text/plain": [
       "<IPython.core.display.HTML object>"
      ]
     },
     "metadata": {},
     "output_type": "display_data"
    },
    {
     "data": {
      "text/html": [
       "<a target='_blank' href='FRA_guyana_ok/map_of_Guatemala.svg'>SVG Map of the world highlighting Guatemala</a>"
      ],
      "text/plain": [
       "<IPython.core.display.HTML object>"
      ]
     },
     "metadata": {},
     "output_type": "display_data"
    },
    {
     "data": {
      "text/html": [
       "<a target='_blank' href='FRA_guyana_ok/map_of_Guatemala.pdf'>PDF Map of the world highlighting Guatemala</a>"
      ],
      "text/plain": [
       "<IPython.core.display.HTML object>"
      ]
     },
     "metadata": {},
     "output_type": "display_data"
    },
    {
     "data": {
      "text/html": [
       "<a target='_blank' href='FRA_guyana_ok/map_of_Guam.svg'>SVG Map of the world highlighting Guam</a>"
      ],
      "text/plain": [
       "<IPython.core.display.HTML object>"
      ]
     },
     "metadata": {},
     "output_type": "display_data"
    },
    {
     "data": {
      "text/html": [
       "<a target='_blank' href='FRA_guyana_ok/map_of_Guam.pdf'>PDF Map of the world highlighting Guam</a>"
      ],
      "text/plain": [
       "<IPython.core.display.HTML object>"
      ]
     },
     "metadata": {},
     "output_type": "display_data"
    },
    {
     "data": {
      "text/html": [
       "<a target='_blank' href='FRA_guyana_ok/map_of_Guyana.svg'>SVG Map of the world highlighting Guyana</a>"
      ],
      "text/plain": [
       "<IPython.core.display.HTML object>"
      ]
     },
     "metadata": {},
     "output_type": "display_data"
    },
    {
     "data": {
      "text/html": [
       "<a target='_blank' href='FRA_guyana_ok/map_of_Guyana.pdf'>PDF Map of the world highlighting Guyana</a>"
      ],
      "text/plain": [
       "<IPython.core.display.HTML object>"
      ]
     },
     "metadata": {},
     "output_type": "display_data"
    },
    {
     "data": {
      "text/html": [
       "<a target='_blank' href='FRA_guyana_ok/map_of_Hong Kong SAR, China.svg'>SVG Map of the world highlighting Hong Kong SAR, China</a>"
      ],
      "text/plain": [
       "<IPython.core.display.HTML object>"
      ]
     },
     "metadata": {},
     "output_type": "display_data"
    },
    {
     "data": {
      "text/html": [
       "<a target='_blank' href='FRA_guyana_ok/map_of_Hong Kong SAR, China.pdf'>PDF Map of the world highlighting Hong Kong SAR, China</a>"
      ],
      "text/plain": [
       "<IPython.core.display.HTML object>"
      ]
     },
     "metadata": {},
     "output_type": "display_data"
    },
    {
     "data": {
      "text/html": [
       "<a target='_blank' href='FRA_guyana_ok/map_of_Honduras.svg'>SVG Map of the world highlighting Honduras</a>"
      ],
      "text/plain": [
       "<IPython.core.display.HTML object>"
      ]
     },
     "metadata": {},
     "output_type": "display_data"
    },
    {
     "data": {
      "text/html": [
       "<a target='_blank' href='FRA_guyana_ok/map_of_Honduras.pdf'>PDF Map of the world highlighting Honduras</a>"
      ],
      "text/plain": [
       "<IPython.core.display.HTML object>"
      ]
     },
     "metadata": {},
     "output_type": "display_data"
    },
    {
     "data": {
      "text/html": [
       "<a target='_blank' href='FRA_guyana_ok/map_of_Croatia.svg'>SVG Map of the world highlighting Croatia</a>"
      ],
      "text/plain": [
       "<IPython.core.display.HTML object>"
      ]
     },
     "metadata": {},
     "output_type": "display_data"
    },
    {
     "data": {
      "text/html": [
       "<a target='_blank' href='FRA_guyana_ok/map_of_Croatia.pdf'>PDF Map of the world highlighting Croatia</a>"
      ],
      "text/plain": [
       "<IPython.core.display.HTML object>"
      ]
     },
     "metadata": {},
     "output_type": "display_data"
    },
    {
     "data": {
      "text/html": [
       "<a target='_blank' href='FRA_guyana_ok/map_of_Haiti.svg'>SVG Map of the world highlighting Haiti</a>"
      ],
      "text/plain": [
       "<IPython.core.display.HTML object>"
      ]
     },
     "metadata": {},
     "output_type": "display_data"
    },
    {
     "data": {
      "text/html": [
       "<a target='_blank' href='FRA_guyana_ok/map_of_Haiti.pdf'>PDF Map of the world highlighting Haiti</a>"
      ],
      "text/plain": [
       "<IPython.core.display.HTML object>"
      ]
     },
     "metadata": {},
     "output_type": "display_data"
    },
    {
     "data": {
      "text/html": [
       "<a target='_blank' href='FRA_guyana_ok/map_of_Hungary.svg'>SVG Map of the world highlighting Hungary</a>"
      ],
      "text/plain": [
       "<IPython.core.display.HTML object>"
      ]
     },
     "metadata": {},
     "output_type": "display_data"
    },
    {
     "data": {
      "text/html": [
       "<a target='_blank' href='FRA_guyana_ok/map_of_Hungary.pdf'>PDF Map of the world highlighting Hungary</a>"
      ],
      "text/plain": [
       "<IPython.core.display.HTML object>"
      ]
     },
     "metadata": {},
     "output_type": "display_data"
    },
    {
     "data": {
      "text/html": [
       "<a target='_blank' href='FRA_guyana_ok/map_of_Indonesia.svg'>SVG Map of the world highlighting Indonesia</a>"
      ],
      "text/plain": [
       "<IPython.core.display.HTML object>"
      ]
     },
     "metadata": {},
     "output_type": "display_data"
    },
    {
     "data": {
      "text/html": [
       "<a target='_blank' href='FRA_guyana_ok/map_of_Indonesia.pdf'>PDF Map of the world highlighting Indonesia</a>"
      ],
      "text/plain": [
       "<IPython.core.display.HTML object>"
      ]
     },
     "metadata": {},
     "output_type": "display_data"
    },
    {
     "data": {
      "text/html": [
       "<a target='_blank' href='FRA_guyana_ok/map_of_Isle of Man.svg'>SVG Map of the world highlighting Isle of Man</a>"
      ],
      "text/plain": [
       "<IPython.core.display.HTML object>"
      ]
     },
     "metadata": {},
     "output_type": "display_data"
    },
    {
     "data": {
      "text/html": [
       "<a target='_blank' href='FRA_guyana_ok/map_of_Isle of Man.pdf'>PDF Map of the world highlighting Isle of Man</a>"
      ],
      "text/plain": [
       "<IPython.core.display.HTML object>"
      ]
     },
     "metadata": {},
     "output_type": "display_data"
    },
    {
     "data": {
      "text/html": [
       "<a target='_blank' href='FRA_guyana_ok/map_of_India.svg'>SVG Map of the world highlighting India</a>"
      ],
      "text/plain": [
       "<IPython.core.display.HTML object>"
      ]
     },
     "metadata": {},
     "output_type": "display_data"
    },
    {
     "data": {
      "text/html": [
       "<a target='_blank' href='FRA_guyana_ok/map_of_India.pdf'>PDF Map of the world highlighting India</a>"
      ],
      "text/plain": [
       "<IPython.core.display.HTML object>"
      ]
     },
     "metadata": {},
     "output_type": "display_data"
    },
    {
     "data": {
      "text/html": [
       "<a target='_blank' href='FRA_guyana_ok/map_of_Ireland.svg'>SVG Map of the world highlighting Ireland</a>"
      ],
      "text/plain": [
       "<IPython.core.display.HTML object>"
      ]
     },
     "metadata": {},
     "output_type": "display_data"
    },
    {
     "data": {
      "text/html": [
       "<a target='_blank' href='FRA_guyana_ok/map_of_Ireland.pdf'>PDF Map of the world highlighting Ireland</a>"
      ],
      "text/plain": [
       "<IPython.core.display.HTML object>"
      ]
     },
     "metadata": {},
     "output_type": "display_data"
    },
    {
     "data": {
      "text/html": [
       "<a target='_blank' href='FRA_guyana_ok/map_of_Iran, Islamic Rep..svg'>SVG Map of the world highlighting Iran, Islamic Rep.</a>"
      ],
      "text/plain": [
       "<IPython.core.display.HTML object>"
      ]
     },
     "metadata": {},
     "output_type": "display_data"
    },
    {
     "data": {
      "text/html": [
       "<a target='_blank' href='FRA_guyana_ok/map_of_Iran, Islamic Rep..pdf'>PDF Map of the world highlighting Iran, Islamic Rep.</a>"
      ],
      "text/plain": [
       "<IPython.core.display.HTML object>"
      ]
     },
     "metadata": {},
     "output_type": "display_data"
    },
    {
     "data": {
      "text/html": [
       "<a target='_blank' href='FRA_guyana_ok/map_of_Iraq.svg'>SVG Map of the world highlighting Iraq</a>"
      ],
      "text/plain": [
       "<IPython.core.display.HTML object>"
      ]
     },
     "metadata": {},
     "output_type": "display_data"
    },
    {
     "data": {
      "text/html": [
       "<a target='_blank' href='FRA_guyana_ok/map_of_Iraq.pdf'>PDF Map of the world highlighting Iraq</a>"
      ],
      "text/plain": [
       "<IPython.core.display.HTML object>"
      ]
     },
     "metadata": {},
     "output_type": "display_data"
    },
    {
     "data": {
      "text/html": [
       "<a target='_blank' href='FRA_guyana_ok/map_of_Iceland.svg'>SVG Map of the world highlighting Iceland</a>"
      ],
      "text/plain": [
       "<IPython.core.display.HTML object>"
      ]
     },
     "metadata": {},
     "output_type": "display_data"
    },
    {
     "data": {
      "text/html": [
       "<a target='_blank' href='FRA_guyana_ok/map_of_Iceland.pdf'>PDF Map of the world highlighting Iceland</a>"
      ],
      "text/plain": [
       "<IPython.core.display.HTML object>"
      ]
     },
     "metadata": {},
     "output_type": "display_data"
    },
    {
     "data": {
      "text/html": [
       "<a target='_blank' href='FRA_guyana_ok/map_of_Israel.svg'>SVG Map of the world highlighting Israel</a>"
      ],
      "text/plain": [
       "<IPython.core.display.HTML object>"
      ]
     },
     "metadata": {},
     "output_type": "display_data"
    },
    {
     "data": {
      "text/html": [
       "<a target='_blank' href='FRA_guyana_ok/map_of_Israel.pdf'>PDF Map of the world highlighting Israel</a>"
      ],
      "text/plain": [
       "<IPython.core.display.HTML object>"
      ]
     },
     "metadata": {},
     "output_type": "display_data"
    },
    {
     "data": {
      "text/html": [
       "<a target='_blank' href='FRA_guyana_ok/map_of_Italy.svg'>SVG Map of the world highlighting Italy</a>"
      ],
      "text/plain": [
       "<IPython.core.display.HTML object>"
      ]
     },
     "metadata": {},
     "output_type": "display_data"
    },
    {
     "data": {
      "text/html": [
       "<a target='_blank' href='FRA_guyana_ok/map_of_Italy.pdf'>PDF Map of the world highlighting Italy</a>"
      ],
      "text/plain": [
       "<IPython.core.display.HTML object>"
      ]
     },
     "metadata": {},
     "output_type": "display_data"
    },
    {
     "data": {
      "text/html": [
       "<a target='_blank' href='FRA_guyana_ok/map_of_Jamaica.svg'>SVG Map of the world highlighting Jamaica</a>"
      ],
      "text/plain": [
       "<IPython.core.display.HTML object>"
      ]
     },
     "metadata": {},
     "output_type": "display_data"
    },
    {
     "data": {
      "text/html": [
       "<a target='_blank' href='FRA_guyana_ok/map_of_Jamaica.pdf'>PDF Map of the world highlighting Jamaica</a>"
      ],
      "text/plain": [
       "<IPython.core.display.HTML object>"
      ]
     },
     "metadata": {},
     "output_type": "display_data"
    },
    {
     "data": {
      "text/html": [
       "<a target='_blank' href='FRA_guyana_ok/map_of_Jordan.svg'>SVG Map of the world highlighting Jordan</a>"
      ],
      "text/plain": [
       "<IPython.core.display.HTML object>"
      ]
     },
     "metadata": {},
     "output_type": "display_data"
    },
    {
     "data": {
      "text/html": [
       "<a target='_blank' href='FRA_guyana_ok/map_of_Jordan.pdf'>PDF Map of the world highlighting Jordan</a>"
      ],
      "text/plain": [
       "<IPython.core.display.HTML object>"
      ]
     },
     "metadata": {},
     "output_type": "display_data"
    },
    {
     "data": {
      "text/html": [
       "<a target='_blank' href='FRA_guyana_ok/map_of_Japan.svg'>SVG Map of the world highlighting Japan</a>"
      ],
      "text/plain": [
       "<IPython.core.display.HTML object>"
      ]
     },
     "metadata": {},
     "output_type": "display_data"
    },
    {
     "data": {
      "text/html": [
       "<a target='_blank' href='FRA_guyana_ok/map_of_Japan.pdf'>PDF Map of the world highlighting Japan</a>"
      ],
      "text/plain": [
       "<IPython.core.display.HTML object>"
      ]
     },
     "metadata": {},
     "output_type": "display_data"
    },
    {
     "data": {
      "text/html": [
       "<a target='_blank' href='FRA_guyana_ok/map_of_Kazakhstan.svg'>SVG Map of the world highlighting Kazakhstan</a>"
      ],
      "text/plain": [
       "<IPython.core.display.HTML object>"
      ]
     },
     "metadata": {},
     "output_type": "display_data"
    },
    {
     "data": {
      "text/html": [
       "<a target='_blank' href='FRA_guyana_ok/map_of_Kazakhstan.pdf'>PDF Map of the world highlighting Kazakhstan</a>"
      ],
      "text/plain": [
       "<IPython.core.display.HTML object>"
      ]
     },
     "metadata": {},
     "output_type": "display_data"
    },
    {
     "data": {
      "text/html": [
       "<a target='_blank' href='FRA_guyana_ok/map_of_Kenya.svg'>SVG Map of the world highlighting Kenya</a>"
      ],
      "text/plain": [
       "<IPython.core.display.HTML object>"
      ]
     },
     "metadata": {},
     "output_type": "display_data"
    },
    {
     "data": {
      "text/html": [
       "<a target='_blank' href='FRA_guyana_ok/map_of_Kenya.pdf'>PDF Map of the world highlighting Kenya</a>"
      ],
      "text/plain": [
       "<IPython.core.display.HTML object>"
      ]
     },
     "metadata": {},
     "output_type": "display_data"
    },
    {
     "data": {
      "text/html": [
       "<a target='_blank' href='FRA_guyana_ok/map_of_Kyrgyz Republic.svg'>SVG Map of the world highlighting Kyrgyz Republic</a>"
      ],
      "text/plain": [
       "<IPython.core.display.HTML object>"
      ]
     },
     "metadata": {},
     "output_type": "display_data"
    },
    {
     "data": {
      "text/html": [
       "<a target='_blank' href='FRA_guyana_ok/map_of_Kyrgyz Republic.pdf'>PDF Map of the world highlighting Kyrgyz Republic</a>"
      ],
      "text/plain": [
       "<IPython.core.display.HTML object>"
      ]
     },
     "metadata": {},
     "output_type": "display_data"
    },
    {
     "data": {
      "text/html": [
       "<a target='_blank' href='FRA_guyana_ok/map_of_Cambodia.svg'>SVG Map of the world highlighting Cambodia</a>"
      ],
      "text/plain": [
       "<IPython.core.display.HTML object>"
      ]
     },
     "metadata": {},
     "output_type": "display_data"
    },
    {
     "data": {
      "text/html": [
       "<a target='_blank' href='FRA_guyana_ok/map_of_Cambodia.pdf'>PDF Map of the world highlighting Cambodia</a>"
      ],
      "text/plain": [
       "<IPython.core.display.HTML object>"
      ]
     },
     "metadata": {},
     "output_type": "display_data"
    },
    {
     "data": {
      "text/html": [
       "<a target='_blank' href='FRA_guyana_ok/map_of_Kiribati.svg'>SVG Map of the world highlighting Kiribati</a>"
      ],
      "text/plain": [
       "<IPython.core.display.HTML object>"
      ]
     },
     "metadata": {},
     "output_type": "display_data"
    },
    {
     "data": {
      "text/html": [
       "<a target='_blank' href='FRA_guyana_ok/map_of_Kiribati.pdf'>PDF Map of the world highlighting Kiribati</a>"
      ],
      "text/plain": [
       "<IPython.core.display.HTML object>"
      ]
     },
     "metadata": {},
     "output_type": "display_data"
    },
    {
     "data": {
      "text/html": [
       "<a target='_blank' href='FRA_guyana_ok/map_of_St. Kitts and Nevis.svg'>SVG Map of the world highlighting St. Kitts and Nevis</a>"
      ],
      "text/plain": [
       "<IPython.core.display.HTML object>"
      ]
     },
     "metadata": {},
     "output_type": "display_data"
    },
    {
     "data": {
      "text/html": [
       "<a target='_blank' href='FRA_guyana_ok/map_of_St. Kitts and Nevis.pdf'>PDF Map of the world highlighting St. Kitts and Nevis</a>"
      ],
      "text/plain": [
       "<IPython.core.display.HTML object>"
      ]
     },
     "metadata": {},
     "output_type": "display_data"
    },
    {
     "data": {
      "text/html": [
       "<a target='_blank' href='FRA_guyana_ok/map_of_Korea, Rep..svg'>SVG Map of the world highlighting Korea, Rep.</a>"
      ],
      "text/plain": [
       "<IPython.core.display.HTML object>"
      ]
     },
     "metadata": {},
     "output_type": "display_data"
    },
    {
     "data": {
      "text/html": [
       "<a target='_blank' href='FRA_guyana_ok/map_of_Korea, Rep..pdf'>PDF Map of the world highlighting Korea, Rep.</a>"
      ],
      "text/plain": [
       "<IPython.core.display.HTML object>"
      ]
     },
     "metadata": {},
     "output_type": "display_data"
    },
    {
     "data": {
      "text/html": [
       "<a target='_blank' href='FRA_guyana_ok/map_of_Kosovo.svg'>SVG Map of the world highlighting Kosovo</a>"
      ],
      "text/plain": [
       "<IPython.core.display.HTML object>"
      ]
     },
     "metadata": {},
     "output_type": "display_data"
    },
    {
     "data": {
      "text/html": [
       "<a target='_blank' href='FRA_guyana_ok/map_of_Kosovo.pdf'>PDF Map of the world highlighting Kosovo</a>"
      ],
      "text/plain": [
       "<IPython.core.display.HTML object>"
      ]
     },
     "metadata": {},
     "output_type": "display_data"
    },
    {
     "data": {
      "text/html": [
       "<a target='_blank' href='FRA_guyana_ok/map_of_Kosovo.svg'>SVG Map of the world highlighting Kosovo</a>"
      ],
      "text/plain": [
       "<IPython.core.display.HTML object>"
      ]
     },
     "metadata": {},
     "output_type": "display_data"
    },
    {
     "data": {
      "text/html": [
       "<a target='_blank' href='FRA_guyana_ok/map_of_Kosovo.pdf'>PDF Map of the world highlighting Kosovo</a>"
      ],
      "text/plain": [
       "<IPython.core.display.HTML object>"
      ]
     },
     "metadata": {},
     "output_type": "display_data"
    },
    {
     "data": {
      "text/html": [
       "<a target='_blank' href='FRA_guyana_ok/map_of_Kosovo.svg'>SVG Map of the world highlighting Kosovo</a>"
      ],
      "text/plain": [
       "<IPython.core.display.HTML object>"
      ]
     },
     "metadata": {},
     "output_type": "display_data"
    },
    {
     "data": {
      "text/html": [
       "<a target='_blank' href='FRA_guyana_ok/map_of_Kosovo.pdf'>PDF Map of the world highlighting Kosovo</a>"
      ],
      "text/plain": [
       "<IPython.core.display.HTML object>"
      ]
     },
     "metadata": {},
     "output_type": "display_data"
    },
    {
     "data": {
      "text/html": [
       "<a target='_blank' href='FRA_guyana_ok/map_of_Kuwait.svg'>SVG Map of the world highlighting Kuwait</a>"
      ],
      "text/plain": [
       "<IPython.core.display.HTML object>"
      ]
     },
     "metadata": {},
     "output_type": "display_data"
    },
    {
     "data": {
      "text/html": [
       "<a target='_blank' href='FRA_guyana_ok/map_of_Kuwait.pdf'>PDF Map of the world highlighting Kuwait</a>"
      ],
      "text/plain": [
       "<IPython.core.display.HTML object>"
      ]
     },
     "metadata": {},
     "output_type": "display_data"
    },
    {
     "data": {
      "text/html": [
       "<a target='_blank' href='FRA_guyana_ok/map_of_Lao PDR.svg'>SVG Map of the world highlighting Lao PDR</a>"
      ],
      "text/plain": [
       "<IPython.core.display.HTML object>"
      ]
     },
     "metadata": {},
     "output_type": "display_data"
    },
    {
     "data": {
      "text/html": [
       "<a target='_blank' href='FRA_guyana_ok/map_of_Lao PDR.pdf'>PDF Map of the world highlighting Lao PDR</a>"
      ],
      "text/plain": [
       "<IPython.core.display.HTML object>"
      ]
     },
     "metadata": {},
     "output_type": "display_data"
    },
    {
     "data": {
      "text/html": [
       "<a target='_blank' href='FRA_guyana_ok/map_of_Lebanon.svg'>SVG Map of the world highlighting Lebanon</a>"
      ],
      "text/plain": [
       "<IPython.core.display.HTML object>"
      ]
     },
     "metadata": {},
     "output_type": "display_data"
    },
    {
     "data": {
      "text/html": [
       "<a target='_blank' href='FRA_guyana_ok/map_of_Lebanon.pdf'>PDF Map of the world highlighting Lebanon</a>"
      ],
      "text/plain": [
       "<IPython.core.display.HTML object>"
      ]
     },
     "metadata": {},
     "output_type": "display_data"
    },
    {
     "data": {
      "text/html": [
       "<a target='_blank' href='FRA_guyana_ok/map_of_Liberia.svg'>SVG Map of the world highlighting Liberia</a>"
      ],
      "text/plain": [
       "<IPython.core.display.HTML object>"
      ]
     },
     "metadata": {},
     "output_type": "display_data"
    },
    {
     "data": {
      "text/html": [
       "<a target='_blank' href='FRA_guyana_ok/map_of_Liberia.pdf'>PDF Map of the world highlighting Liberia</a>"
      ],
      "text/plain": [
       "<IPython.core.display.HTML object>"
      ]
     },
     "metadata": {},
     "output_type": "display_data"
    },
    {
     "data": {
      "text/html": [
       "<a target='_blank' href='FRA_guyana_ok/map_of_Libya.svg'>SVG Map of the world highlighting Libya</a>"
      ],
      "text/plain": [
       "<IPython.core.display.HTML object>"
      ]
     },
     "metadata": {},
     "output_type": "display_data"
    },
    {
     "data": {
      "text/html": [
       "<a target='_blank' href='FRA_guyana_ok/map_of_Libya.pdf'>PDF Map of the world highlighting Libya</a>"
      ],
      "text/plain": [
       "<IPython.core.display.HTML object>"
      ]
     },
     "metadata": {},
     "output_type": "display_data"
    },
    {
     "data": {
      "text/html": [
       "<a target='_blank' href='FRA_guyana_ok/map_of_St. Lucia.svg'>SVG Map of the world highlighting St. Lucia</a>"
      ],
      "text/plain": [
       "<IPython.core.display.HTML object>"
      ]
     },
     "metadata": {},
     "output_type": "display_data"
    },
    {
     "data": {
      "text/html": [
       "<a target='_blank' href='FRA_guyana_ok/map_of_St. Lucia.pdf'>PDF Map of the world highlighting St. Lucia</a>"
      ],
      "text/plain": [
       "<IPython.core.display.HTML object>"
      ]
     },
     "metadata": {},
     "output_type": "display_data"
    },
    {
     "data": {
      "text/html": [
       "<a target='_blank' href='FRA_guyana_ok/map_of_Liechtenstein.svg'>SVG Map of the world highlighting Liechtenstein</a>"
      ],
      "text/plain": [
       "<IPython.core.display.HTML object>"
      ]
     },
     "metadata": {},
     "output_type": "display_data"
    },
    {
     "data": {
      "text/html": [
       "<a target='_blank' href='FRA_guyana_ok/map_of_Liechtenstein.pdf'>PDF Map of the world highlighting Liechtenstein</a>"
      ],
      "text/plain": [
       "<IPython.core.display.HTML object>"
      ]
     },
     "metadata": {},
     "output_type": "display_data"
    },
    {
     "data": {
      "text/html": [
       "<a target='_blank' href='FRA_guyana_ok/map_of_Sri Lanka.svg'>SVG Map of the world highlighting Sri Lanka</a>"
      ],
      "text/plain": [
       "<IPython.core.display.HTML object>"
      ]
     },
     "metadata": {},
     "output_type": "display_data"
    },
    {
     "data": {
      "text/html": [
       "<a target='_blank' href='FRA_guyana_ok/map_of_Sri Lanka.pdf'>PDF Map of the world highlighting Sri Lanka</a>"
      ],
      "text/plain": [
       "<IPython.core.display.HTML object>"
      ]
     },
     "metadata": {},
     "output_type": "display_data"
    },
    {
     "data": {
      "text/html": [
       "<a target='_blank' href='FRA_guyana_ok/map_of_Lesotho.svg'>SVG Map of the world highlighting Lesotho</a>"
      ],
      "text/plain": [
       "<IPython.core.display.HTML object>"
      ]
     },
     "metadata": {},
     "output_type": "display_data"
    },
    {
     "data": {
      "text/html": [
       "<a target='_blank' href='FRA_guyana_ok/map_of_Lesotho.pdf'>PDF Map of the world highlighting Lesotho</a>"
      ],
      "text/plain": [
       "<IPython.core.display.HTML object>"
      ]
     },
     "metadata": {},
     "output_type": "display_data"
    },
    {
     "data": {
      "text/html": [
       "<a target='_blank' href='FRA_guyana_ok/map_of_Lithuania.svg'>SVG Map of the world highlighting Lithuania</a>"
      ],
      "text/plain": [
       "<IPython.core.display.HTML object>"
      ]
     },
     "metadata": {},
     "output_type": "display_data"
    },
    {
     "data": {
      "text/html": [
       "<a target='_blank' href='FRA_guyana_ok/map_of_Lithuania.pdf'>PDF Map of the world highlighting Lithuania</a>"
      ],
      "text/plain": [
       "<IPython.core.display.HTML object>"
      ]
     },
     "metadata": {},
     "output_type": "display_data"
    },
    {
     "data": {
      "text/html": [
       "<a target='_blank' href='FRA_guyana_ok/map_of_Luxembourg.svg'>SVG Map of the world highlighting Luxembourg</a>"
      ],
      "text/plain": [
       "<IPython.core.display.HTML object>"
      ]
     },
     "metadata": {},
     "output_type": "display_data"
    },
    {
     "data": {
      "text/html": [
       "<a target='_blank' href='FRA_guyana_ok/map_of_Luxembourg.pdf'>PDF Map of the world highlighting Luxembourg</a>"
      ],
      "text/plain": [
       "<IPython.core.display.HTML object>"
      ]
     },
     "metadata": {},
     "output_type": "display_data"
    },
    {
     "data": {
      "text/html": [
       "<a target='_blank' href='FRA_guyana_ok/map_of_Latvia.svg'>SVG Map of the world highlighting Latvia</a>"
      ],
      "text/plain": [
       "<IPython.core.display.HTML object>"
      ]
     },
     "metadata": {},
     "output_type": "display_data"
    },
    {
     "data": {
      "text/html": [
       "<a target='_blank' href='FRA_guyana_ok/map_of_Latvia.pdf'>PDF Map of the world highlighting Latvia</a>"
      ],
      "text/plain": [
       "<IPython.core.display.HTML object>"
      ]
     },
     "metadata": {},
     "output_type": "display_data"
    },
    {
     "data": {
      "text/html": [
       "<a target='_blank' href='FRA_guyana_ok/map_of_Macao SAR, China.svg'>SVG Map of the world highlighting Macao SAR, China</a>"
      ],
      "text/plain": [
       "<IPython.core.display.HTML object>"
      ]
     },
     "metadata": {},
     "output_type": "display_data"
    },
    {
     "data": {
      "text/html": [
       "<a target='_blank' href='FRA_guyana_ok/map_of_Macao SAR, China.pdf'>PDF Map of the world highlighting Macao SAR, China</a>"
      ],
      "text/plain": [
       "<IPython.core.display.HTML object>"
      ]
     },
     "metadata": {},
     "output_type": "display_data"
    },
    {
     "data": {
      "text/html": [
       "<a target='_blank' href='FRA_guyana_ok/map_of_St. Martin (French part).svg'>SVG Map of the world highlighting St. Martin (French part)</a>"
      ],
      "text/plain": [
       "<IPython.core.display.HTML object>"
      ]
     },
     "metadata": {},
     "output_type": "display_data"
    },
    {
     "data": {
      "text/html": [
       "<a target='_blank' href='FRA_guyana_ok/map_of_St. Martin (French part).pdf'>PDF Map of the world highlighting St. Martin (French part)</a>"
      ],
      "text/plain": [
       "<IPython.core.display.HTML object>"
      ]
     },
     "metadata": {},
     "output_type": "display_data"
    },
    {
     "data": {
      "text/html": [
       "<a target='_blank' href='FRA_guyana_ok/map_of_Morocco.svg'>SVG Map of the world highlighting Morocco</a>"
      ],
      "text/plain": [
       "<IPython.core.display.HTML object>"
      ]
     },
     "metadata": {},
     "output_type": "display_data"
    }
   ],
   "source": [
    "# for c in [\"AND\", \"COK\", \"LIE\", \"MCO\", \"MMR\", \"NIU\", \"NRU\", \"SMR\", \"SOM\", \"SUR\"]: \"countries that where missing first\n",
    "for c in iso_to_wb.index: #all countries\n",
    "    s_country = countries.value.copy() \n",
    "    s_country = (s_country +pd.Series({c:1})).fillna(0)\n",
    "    make_map_from_svg(\n",
    "        series_in=s_country, #data \n",
    "        svg_file_path=\"world-original_thin.svg\",    #path to blank map\n",
    "#         svg_file_path  = \"world-color.svg\",\n",
    "        outname=iso_to_wb.ix[c].country,           #base name for output  (will vreate img/map_of_asset_risk.png, img/legend_of_asset_risk.png, etc.)\n",
    "        bins = [-1,0.5,2],\n",
    "        bincolors = [\"#b7e1da\",\"#ffffff\"],\n",
    "        label=iso_to_wb.ix[c].country,\n",
    "        new_title=\"Map of the world highlighting \"+iso_to_wb.ix[c].country,#title for the colored SVG\n",
    "        outfolder=outfolder_name,\n",
    "        verbose=True,\n",
    "        doPNG=False\n",
    "    )\n",
    "    \n",
    "    "
   ]
  },
  {
   "cell_type": "markdown",
   "metadata": {},
   "source": [
    "## EU"
   ]
  },
  {
   "cell_type": "code",
   "execution_count": null,
   "metadata": {
    "collapsed": false,
    "run_control": {
     "frozen": false,
     "read_only": false
    }
   },
   "outputs": [],
   "source": [
    "list_of_EU = [\"Austria\" ,\"Belgium\" ,\"Bulgaria\" ,\"Croatia\" ,\"Cyprus\" ,\"Czech Republic\" ,\"Denmark\" ,\"Estonia\" ,\"Finland\" ,\"France\" ,\"Germany\" ,\"Greece\" ,\n",
    "              \"Hungary\" ,\"Ireland\" ,\"Italy\" ,\"Latvia\" ,\"Lithuania\" ,\"Luxembourg\" ,\"Malta\" ,\"Netherlands\" ,\n",
    "              \"Poland\" ,\"Portugal\" ,\"Romania\" ,\"Slovakia\" ,\"Slovenia\" ,\"Spain\" ,\"Sweden\" ,\"United Kingdom\" ]\n",
    "\n",
    "any_name_to_wb_name = pd.read_csv(\"https://raw.githubusercontent.com/adrivsh/country_names/master/names_to_iso.csv\",\n",
    "                                  index_col = \"country\").iso3\n",
    "\n",
    "eu_isos = any_name_to_wb_name[list_of_EU]\n",
    "\n",
    "\n"
   ]
  },
  {
   "cell_type": "code",
   "execution_count": null,
   "metadata": {
    "collapsed": false,
    "run_control": {
     "frozen": false,
     "read_only": false
    }
   },
   "outputs": [],
   "source": [
    "s_country = countries.value.copy() \n",
    "s_country = (s_country +pd.Series(1, index=eu_isos)).fillna(0)\n",
    "\n",
    "make_map_from_svg(\n",
    "        series_in=s_country, #data \n",
    "        svg_file_path=\"world-original_thin.svg\",    #path to blank map\n",
    "#         svg_file_path  = \"world-color.svg\",\n",
    "        outname=\"european_union\",           #base name for output  (will vreate img/map_of_asset_risk.png, img/legend_of_asset_risk.png, etc.)\n",
    "        bins = [-1,0.5,2],\n",
    "        bincolors = [\"#b7e1da\",\"#ffffff\"],\n",
    "        label=\"European Union\",\n",
    "        new_title=\"Map of the world highlighting European Union\",\n",
    "        outfolder=outfolder_name,\n",
    "        verbose=True,\n",
    "        doPNG=False\n",
    "    )\n",
    "    \n",
    "    "
   ]
  },
  {
   "cell_type": "code",
   "execution_count": null,
   "metadata": {
    "collapsed": false,
    "run_control": {
     "frozen": false,
     "read_only": false
    }
   },
   "outputs": [],
   "source": [
    "#removes \"map of\" from the filenames\n",
    "import os\n",
    "import glob\n",
    "for f in glob.glob(\"*/map_of_*\"):\n",
    "    nu =f.replace(\"map_of_\",\"\")\n",
    "    if os.path.isfile(nu):\n",
    "        os.remove(nu)\n",
    "    os.rename(f,nu)\n"
   ]
  },
  {
   "cell_type": "code",
   "execution_count": null,
   "metadata": {
    "collapsed": true,
    "run_control": {
     "frozen": false,
     "read_only": false
    }
   },
   "outputs": [],
   "source": []
  },
  {
   "cell_type": "code",
   "execution_count": null,
   "metadata": {
    "collapsed": true,
    "run_control": {
     "frozen": false,
     "read_only": false
    }
   },
   "outputs": [],
   "source": []
  }
 ],
 "metadata": {
  "kernelspec": {
   "display_name": "Python 3",
   "language": "python",
   "name": "python3"
  },
  "language_info": {
   "codemirror_mode": {
    "name": "ipython",
    "version": 3
   },
   "file_extension": ".py",
   "mimetype": "text/x-python",
   "name": "python",
   "nbconvert_exporter": "python",
   "pygments_lexer": "ipython3",
   "version": "3.4.4"
  },
  "nav_menu": {},
  "notify_time": "5",
  "toc": {
   "navigate_menu": true,
   "number_sections": true,
   "sideBar": true,
   "threshold": 6,
   "toc_cell": false,
   "toc_section_display": "block",
   "toc_window_display": false
  }
 },
 "nbformat": 4,
 "nbformat_minor": 0
}
