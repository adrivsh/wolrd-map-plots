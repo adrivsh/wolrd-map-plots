{
 "cells": [
  {
   "cell_type": "markdown",
   "metadata": {
    "ExecuteTime": {
     "end_time": "2016-02-29T18:00:41.559304",
     "start_time": "2016-02-29T18:00:41.553300"
    }
   },
   "source": [
    "In this notebook we use Python to draw maps of every single country in the world, as well as a map of the EU"
   ]
  },
  {
   "cell_type": "code",
   "execution_count": 1,
   "metadata": {
    "collapsed": false,
    "run_control": {
     "frozen": false,
     "read_only": false
    }
   },
   "outputs": [],
   "source": [
    "%load_ext autoreload\n",
    "%autoreload 2"
   ]
  },
  {
   "cell_type": "code",
   "execution_count": 2,
   "metadata": {
    "ExecuteTime": {
     "end_time": "2016-02-29T19:21:05.076569",
     "start_time": "2016-02-29T19:21:04.082457"
    },
    "collapsed": true,
    "run_control": {
     "frozen": false,
     "read_only": false
    }
   },
   "outputs": [],
   "source": [
    "#Standard python library. Manipulates Excel-like tables (called dataframes) with named rows and columns\n",
    "import pandas as pd"
   ]
  },
  {
   "cell_type": "markdown",
   "metadata": {},
   "source": [
    "# preparation"
   ]
  },
  {
   "cell_type": "markdown",
   "metadata": {},
   "source": [
    "## country dictionary"
   ]
  },
  {
   "cell_type": "code",
   "execution_count": 3,
   "metadata": {
    "collapsed": false,
    "run_control": {
     "frozen": false,
     "read_only": false
    }
   },
   "outputs": [
    {
     "data": {
      "text/html": [
       "<div>\n",
       "<table border=\"1\" class=\"dataframe\">\n",
       "  <thead>\n",
       "    <tr style=\"text-align: right;\">\n",
       "      <th></th>\n",
       "      <th>country</th>\n",
       "    </tr>\n",
       "    <tr>\n",
       "      <th>iso3</th>\n",
       "      <th></th>\n",
       "    </tr>\n",
       "  </thead>\n",
       "  <tbody>\n",
       "    <tr>\n",
       "      <th>ABW</th>\n",
       "      <td>Aruba</td>\n",
       "    </tr>\n",
       "    <tr>\n",
       "      <th>AFG</th>\n",
       "      <td>Afghanistan</td>\n",
       "    </tr>\n",
       "    <tr>\n",
       "      <th>AGO</th>\n",
       "      <td>Angola</td>\n",
       "    </tr>\n",
       "    <tr>\n",
       "      <th>AIA</th>\n",
       "      <td>Anguilla</td>\n",
       "    </tr>\n",
       "    <tr>\n",
       "      <th>ALB</th>\n",
       "      <td>Albania</td>\n",
       "    </tr>\n",
       "  </tbody>\n",
       "</table>\n",
       "</div>"
      ],
      "text/plain": [
       "          country\n",
       "iso3             \n",
       "ABW         Aruba\n",
       "AFG   Afghanistan\n",
       "AGO        Angola\n",
       "AIA      Anguilla\n",
       "ALB       Albania"
      ]
     },
     "execution_count": 3,
     "metadata": {},
     "output_type": "execute_result"
    }
   ],
   "source": [
    "iso_to_wb = pd.read_csv(\"https://raw.githubusercontent.com/adrivsh/country_names/master/iso3_to_wb_name.csv\", index_col=\"iso3\")\n",
    "iso_to_wb.head()"
   ]
  },
  {
   "cell_type": "code",
   "execution_count": 4,
   "metadata": {
    "collapsed": true,
    "run_control": {
     "frozen": false,
     "read_only": false
    }
   },
   "outputs": [],
   "source": [
    "from replace_with_warning import replace_with_warning"
   ]
  },
  {
   "cell_type": "markdown",
   "metadata": {
    "ExecuteTime": {
     "end_time": "2016-02-29T19:21:06.028383",
     "start_time": "2016-02-29T19:21:05.304232"
    },
    "collapsed": false
   },
   "source": [
    "## Mapping libraries"
   ]
  },
  {
   "cell_type": "markdown",
   "metadata": {},
   "source": [
    "The following library, coded for this project, allows to plot maps. It produces [SVG](https://en.wikipedia.org/wiki/Scalable_Vector_Graphics) maps, that can be visualized in a browser, out of the box. \n",
    "\n",
    "It can also automatically transform those SVG maps into [png](https://en.wikipedia.org/wiki/Portable_Network_Graphics) maps, provided the free softaware [Inkspace](https://inkscape.org/en/download/) is installed on your computer. \n",
    "Finally, to automatically merge the map and the legend in a single file, it requires [ImageMagick](http://www.imagemagick.org/script/index.php).\n",
    "\n",
    "\n"
   ]
  },
  {
   "cell_type": "code",
   "execution_count": 5,
   "metadata": {
    "collapsed": true,
    "run_control": {
     "frozen": false,
     "read_only": false
    }
   },
   "outputs": [],
   "source": [
    "from maps_lib import * "
   ]
  },
  {
   "cell_type": "code",
   "execution_count": 6,
   "metadata": {
    "ExecuteTime": {
     "end_time": "2016-02-29T19:21:06.212223",
     "start_time": "2016-02-29T19:21:06.032384"
    },
    "collapsed": true,
    "run_control": {
     "frozen": false,
     "read_only": false
    }
   },
   "outputs": [],
   "source": [
    "#ploting capacities\n",
    "import matplotlib.pyplot as plt \n",
    "#make plots appear in this notebook\n",
    "%matplotlib inline  "
   ]
  },
  {
   "cell_type": "markdown",
   "metadata": {},
   "source": [
    "## Base world map"
   ]
  },
  {
   "cell_type": "code",
   "execution_count": 11,
   "metadata": {
    "collapsed": true,
    "run_control": {
     "frozen": false,
     "read_only": false
    }
   },
   "outputs": [],
   "source": [
    "#Basemap to use\n",
    "\n",
    "svg_to_use = \"FRA_guyana_ok\"\n",
    "# svg_to_use = \"Boundaries_in_asia_and_more_detail\""
   ]
  },
  {
   "cell_type": "code",
   "execution_count": 12,
   "metadata": {
    "collapsed": false,
    "run_control": {
     "frozen": false,
     "read_only": false
    }
   },
   "outputs": [
    {
     "name": "stdout",
     "output_type": "stream",
     "text": [
      "FRA_guyana_ok\\\n"
     ]
    }
   ],
   "source": [
    "from tempfile import mkstemp\n",
    "from shutil import move\n",
    "from os import remove, close\n",
    "\n",
    "def replace(file_path, new_path, pattern, subst):\n",
    "    #Create temp file\n",
    "    fh, abs_path = mkstemp()\n",
    "    \n",
    "    #actually replaces text line by line\n",
    "    with open(abs_path,'w') as new_file:\n",
    "        with open(file_path) as old_file:\n",
    "            for line in old_file:\n",
    "                new_file.write(line.replace(pattern, subst))\n",
    "    \n",
    "    #closes the temporary file\n",
    "    close(fh)\n",
    "    #Move temp to new file\n",
    "    move(abs_path, new_path)\n",
    "\n",
    "if svg_to_use == \"Boundaries_in_asia_and_more_detail\":\n",
    "        #copies from map with french guyana to new one, with smaller (less thick) boundaries    \n",
    "    replace(\"world-original.svg\",\"world-original_thin.svg\",\".5px\",\".1px\")\n",
    "elif svg_to_use == \"FRA_guyana_ok\":    \n",
    "    #copies from map with french guyana to new one, with smaller (less thick) boundaries    \n",
    "    replace(\"world-fra.svg\",\"world-original_thin.svg\",\".5px\",\".1px\")\n",
    "else:\n",
    "    error, \"use one of the above options\"\n",
    "    \n",
    "    \n",
    "#changes the colors of the boundaries and fill \n",
    "replace(\"world-original_thin.svg\",\"world-original_thin.svg\",\"stroke: #666\",\"stroke: #6ec8bb\")#ccc\n",
    "replace(\"world-original_thin.svg\",\"world-original_thin.svg\",\"fill: #ccc\",\"fill: #b7e1da\")\n",
    "replace(\"world-original_thin.svg\",\"world-original_thin.svg\",\"fill: #E0E0E0\",\"fill: #b7e1da\")\n",
    "\n",
    "#folder where to store the pdf\n",
    "outfolder_name = os.path.join(svg_to_use,\"\")\n",
    "print(outfolder_name)\n",
    "os.makedirs(outfolder_name, exist_ok=True)\n"
   ]
  },
  {
   "cell_type": "markdown",
   "metadata": {
    "collapsed": true
   },
   "source": [
    "# Country per country and EU shadow maps"
   ]
  },
  {
   "cell_type": "code",
   "execution_count": 13,
   "metadata": {
    "collapsed": false,
    "run_control": {
     "frozen": false,
     "read_only": false
    }
   },
   "outputs": [
    {
     "name": "stdout",
     "output_type": "stream",
     "text": [
      "skipping Aruba. Map already exists.\n",
      "skipping Afghanistan. Map already exists.\n",
      "skipping Angola. Map already exists.\n",
      "skipping Anguilla. Map already exists.\n",
      "skipping Albania. Map already exists.\n",
      "skipping Andorra. Map already exists.\n",
      "skipping United Arab Emirates. Map already exists.\n",
      "skipping Argentina. Map already exists.\n",
      "skipping Armenia. Map already exists.\n",
      "skipping American Samoa. Map already exists.\n",
      "skipping Antigua and Barbuda. Map already exists.\n",
      "skipping Australia. Map already exists.\n",
      "skipping Austria. Map already exists.\n",
      "skipping Azerbaijan. Map already exists.\n",
      "skipping Burundi. Map already exists.\n",
      "skipping Belgium. Map already exists.\n",
      "skipping Benin. Map already exists.\n",
      "skipping Burkina Faso. Map already exists.\n",
      "skipping Bangladesh. Map already exists.\n",
      "skipping Bulgaria. Map already exists.\n",
      "skipping Bahrain. Map already exists.\n",
      "skipping Bahamas, The. Map already exists.\n",
      "skipping Bosnia and Herzegovina. Map already exists.\n",
      "skipping Belarus. Map already exists.\n",
      "skipping Belize. Map already exists.\n",
      "skipping Bermuda. Map already exists.\n",
      "skipping Bolivia. Map already exists.\n",
      "skipping Brazil. Map already exists.\n",
      "skipping Barbados. Map already exists.\n",
      "skipping Brunei Darussalam. Map already exists.\n",
      "skipping Bhutan. Map already exists.\n",
      "skipping Botswana. Map already exists.\n",
      "skipping Central African Republic. Map already exists.\n",
      "skipping Canada. Map already exists.\n",
      "skipping Switzerland. Map already exists.\n",
      "skipping Chile. Map already exists.\n",
      "skipping China. Map already exists.\n",
      "skipping Cote d'Ivoire. Map already exists.\n",
      "skipping Cameroon. Map already exists.\n",
      "skipping Congo, Dem. Rep.. Map already exists.\n",
      "skipping Congo, Rep.. Map already exists.\n",
      "skipping Cook Islands. Map already exists.\n",
      "skipping Colombia. Map already exists.\n",
      "skipping Comoros. Map already exists.\n",
      "skipping Cape Verde. Map already exists.\n",
      "skipping Costa Rica. Map already exists.\n",
      "skipping Cuba. Map already exists.\n"
     ]
    },
    {
     "data": {
      "text/html": [
       "<a target='_blank' href='FRA_guyana_ok\\Curacao.pdf'>PDF Map of the world highlighting Curacao</a>"
      ],
      "text/plain": [
       "<IPython.core.display.HTML object>"
      ]
     },
     "metadata": {},
     "output_type": "display_data"
    },
    {
     "name": "stdout",
     "output_type": "stream",
     "text": [
      "skipping Cayman Islands. Map already exists.\n",
      "skipping Cyprus. Map already exists.\n",
      "skipping Czech Republic. Map already exists.\n",
      "skipping Germany. Map already exists.\n",
      "skipping Djibouti. Map already exists.\n",
      "skipping Dominica. Map already exists.\n",
      "skipping Denmark. Map already exists.\n",
      "skipping Dominican Republic. Map already exists.\n",
      "skipping Algeria. Map already exists.\n",
      "skipping Ecuador. Map already exists.\n",
      "skipping Egypt, Arab Rep.. Map already exists.\n",
      "skipping Eritrea. Map already exists.\n",
      "skipping Spain. Map already exists.\n",
      "skipping Estonia. Map already exists.\n",
      "skipping Ethiopia. Map already exists.\n",
      "skipping Finland. Map already exists.\n",
      "skipping Fiji. Map already exists.\n",
      "skipping France. Map already exists.\n",
      "skipping Faeroe Islands. Map already exists.\n",
      "skipping Micronesia, Fed. Sts.. Map already exists.\n",
      "skipping Gabon. Map already exists.\n",
      "skipping United Kingdom. Map already exists.\n",
      "skipping Georgia. Map already exists.\n",
      "skipping Ghana. Map already exists.\n",
      "skipping Guinea. Map already exists.\n",
      "skipping Gambia, The. Map already exists.\n",
      "skipping Guinea-Bissau. Map already exists.\n",
      "skipping Equatorial Guinea. Map already exists.\n",
      "skipping Greece. Map already exists.\n",
      "skipping Grenada. Map already exists.\n",
      "skipping Greenland. Map already exists.\n",
      "skipping Guatemala. Map already exists.\n",
      "skipping Guam. Map already exists.\n",
      "skipping Guyana. Map already exists.\n",
      "skipping Hong Kong SAR, China. Map already exists.\n",
      "skipping Honduras. Map already exists.\n",
      "skipping Croatia. Map already exists.\n",
      "skipping Haiti. Map already exists.\n",
      "skipping Hungary. Map already exists.\n",
      "skipping Indonesia. Map already exists.\n",
      "skipping Isle of Man. Map already exists.\n",
      "skipping India. Map already exists.\n",
      "skipping Ireland. Map already exists.\n",
      "skipping Iran, Islamic Rep.. Map already exists.\n",
      "skipping Iraq. Map already exists.\n",
      "skipping Iceland. Map already exists.\n",
      "skipping Israel. Map already exists.\n",
      "skipping Italy. Map already exists.\n",
      "skipping Jamaica. Map already exists.\n",
      "skipping Jordan. Map already exists.\n",
      "skipping Japan. Map already exists.\n",
      "skipping Kazakhstan. Map already exists.\n",
      "skipping Kenya. Map already exists.\n",
      "skipping Kyrgyz Republic. Map already exists.\n",
      "skipping Cambodia. Map already exists.\n",
      "skipping Kiribati. Map already exists.\n",
      "skipping St. Kitts and Nevis. Map already exists.\n",
      "skipping Korea, Rep.. Map already exists.\n",
      "skipping Kosovo. Map already exists.\n",
      "skipping Kosovo. Map already exists.\n",
      "skipping Kosovo. Map already exists.\n",
      "skipping Kuwait. Map already exists.\n",
      "skipping Lao PDR. Map already exists.\n",
      "skipping Lebanon. Map already exists.\n",
      "skipping Liberia. Map already exists.\n",
      "skipping Libya. Map already exists.\n",
      "skipping St. Lucia. Map already exists.\n",
      "skipping Liechtenstein. Map already exists.\n",
      "skipping Sri Lanka. Map already exists.\n",
      "skipping Lesotho. Map already exists.\n",
      "skipping Lithuania. Map already exists.\n",
      "skipping Luxembourg. Map already exists.\n",
      "skipping Latvia. Map already exists.\n",
      "skipping Macao SAR, China. Map already exists.\n",
      "skipping St. Martin (French part). Map already exists.\n"
     ]
    },
    {
     "data": {
      "text/html": [
       "<a target='_blank' href='FRA_guyana_ok\\Morocco.pdf'>PDF Map of the world highlighting Morocco</a>"
      ],
      "text/plain": [
       "<IPython.core.display.HTML object>"
      ]
     },
     "metadata": {},
     "output_type": "display_data"
    },
    {
     "name": "stdout",
     "output_type": "stream",
     "text": [
      "skipping Monaco. Map already exists.\n"
     ]
    },
    {
     "data": {
      "text/html": [
       "<a target='_blank' href='FRA_guyana_ok\\Moldova.pdf'>PDF Map of the world highlighting Moldova</a>"
      ],
      "text/plain": [
       "<IPython.core.display.HTML object>"
      ]
     },
     "metadata": {},
     "output_type": "display_data"
    },
    {
     "data": {
      "text/html": [
       "<a target='_blank' href='FRA_guyana_ok\\Madagascar.pdf'>PDF Map of the world highlighting Madagascar</a>"
      ],
      "text/plain": [
       "<IPython.core.display.HTML object>"
      ]
     },
     "metadata": {},
     "output_type": "display_data"
    },
    {
     "data": {
      "text/html": [
       "<a target='_blank' href='FRA_guyana_ok\\Maldives.pdf'>PDF Map of the world highlighting Maldives</a>"
      ],
      "text/plain": [
       "<IPython.core.display.HTML object>"
      ]
     },
     "metadata": {},
     "output_type": "display_data"
    },
    {
     "data": {
      "text/html": [
       "<a target='_blank' href='FRA_guyana_ok\\Mexico.pdf'>PDF Map of the world highlighting Mexico</a>"
      ],
      "text/plain": [
       "<IPython.core.display.HTML object>"
      ]
     },
     "metadata": {},
     "output_type": "display_data"
    },
    {
     "data": {
      "text/html": [
       "<a target='_blank' href='FRA_guyana_ok\\Marshall Islands.pdf'>PDF Map of the world highlighting Marshall Islands</a>"
      ],
      "text/plain": [
       "<IPython.core.display.HTML object>"
      ]
     },
     "metadata": {},
     "output_type": "display_data"
    },
    {
     "data": {
      "text/html": [
       "<a target='_blank' href='FRA_guyana_ok\\Macedonia, FYR.pdf'>PDF Map of the world highlighting Macedonia, FYR</a>"
      ],
      "text/plain": [
       "<IPython.core.display.HTML object>"
      ]
     },
     "metadata": {},
     "output_type": "display_data"
    },
    {
     "data": {
      "text/html": [
       "<a target='_blank' href='FRA_guyana_ok\\Mali.pdf'>PDF Map of the world highlighting Mali</a>"
      ],
      "text/plain": [
       "<IPython.core.display.HTML object>"
      ]
     },
     "metadata": {},
     "output_type": "display_data"
    },
    {
     "data": {
      "text/html": [
       "<a target='_blank' href='FRA_guyana_ok\\Malta.pdf'>PDF Map of the world highlighting Malta</a>"
      ],
      "text/plain": [
       "<IPython.core.display.HTML object>"
      ]
     },
     "metadata": {},
     "output_type": "display_data"
    },
    {
     "name": "stdout",
     "output_type": "stream",
     "text": [
      "skipping Myanmar. Map already exists.\n"
     ]
    },
    {
     "data": {
      "text/html": [
       "<a target='_blank' href='FRA_guyana_ok\\Montenegro.pdf'>PDF Map of the world highlighting Montenegro</a>"
      ],
      "text/plain": [
       "<IPython.core.display.HTML object>"
      ]
     },
     "metadata": {},
     "output_type": "display_data"
    },
    {
     "data": {
      "text/html": [
       "<a target='_blank' href='FRA_guyana_ok\\Mongolia.pdf'>PDF Map of the world highlighting Mongolia</a>"
      ],
      "text/plain": [
       "<IPython.core.display.HTML object>"
      ]
     },
     "metadata": {},
     "output_type": "display_data"
    },
    {
     "data": {
      "text/html": [
       "<a target='_blank' href='FRA_guyana_ok\\Northern Mariana Islands.pdf'>PDF Map of the world highlighting Northern Mariana Islands</a>"
      ],
      "text/plain": [
       "<IPython.core.display.HTML object>"
      ]
     },
     "metadata": {},
     "output_type": "display_data"
    },
    {
     "data": {
      "text/html": [
       "<a target='_blank' href='FRA_guyana_ok\\Mozambique.pdf'>PDF Map of the world highlighting Mozambique</a>"
      ],
      "text/plain": [
       "<IPython.core.display.HTML object>"
      ]
     },
     "metadata": {},
     "output_type": "display_data"
    },
    {
     "data": {
      "text/html": [
       "<a target='_blank' href='FRA_guyana_ok\\Mauritania.pdf'>PDF Map of the world highlighting Mauritania</a>"
      ],
      "text/plain": [
       "<IPython.core.display.HTML object>"
      ]
     },
     "metadata": {},
     "output_type": "display_data"
    },
    {
     "data": {
      "text/html": [
       "<a target='_blank' href='FRA_guyana_ok\\Mauritius.pdf'>PDF Map of the world highlighting Mauritius</a>"
      ],
      "text/plain": [
       "<IPython.core.display.HTML object>"
      ]
     },
     "metadata": {},
     "output_type": "display_data"
    },
    {
     "data": {
      "text/html": [
       "<a target='_blank' href='FRA_guyana_ok\\Malawi.pdf'>PDF Map of the world highlighting Malawi</a>"
      ],
      "text/plain": [
       "<IPython.core.display.HTML object>"
      ]
     },
     "metadata": {},
     "output_type": "display_data"
    },
    {
     "data": {
      "text/html": [
       "<a target='_blank' href='FRA_guyana_ok\\Malaysia.pdf'>PDF Map of the world highlighting Malaysia</a>"
      ],
      "text/plain": [
       "<IPython.core.display.HTML object>"
      ]
     },
     "metadata": {},
     "output_type": "display_data"
    },
    {
     "data": {
      "text/html": [
       "<a target='_blank' href='FRA_guyana_ok\\Namibia.pdf'>PDF Map of the world highlighting Namibia</a>"
      ],
      "text/plain": [
       "<IPython.core.display.HTML object>"
      ]
     },
     "metadata": {},
     "output_type": "display_data"
    },
    {
     "data": {
      "text/html": [
       "<a target='_blank' href='FRA_guyana_ok\\New Caledonia.pdf'>PDF Map of the world highlighting New Caledonia</a>"
      ],
      "text/plain": [
       "<IPython.core.display.HTML object>"
      ]
     },
     "metadata": {},
     "output_type": "display_data"
    },
    {
     "data": {
      "text/html": [
       "<a target='_blank' href='FRA_guyana_ok\\Niger.pdf'>PDF Map of the world highlighting Niger</a>"
      ],
      "text/plain": [
       "<IPython.core.display.HTML object>"
      ]
     },
     "metadata": {},
     "output_type": "display_data"
    },
    {
     "data": {
      "text/html": [
       "<a target='_blank' href='FRA_guyana_ok\\Nigeria.pdf'>PDF Map of the world highlighting Nigeria</a>"
      ],
      "text/plain": [
       "<IPython.core.display.HTML object>"
      ]
     },
     "metadata": {},
     "output_type": "display_data"
    },
    {
     "data": {
      "text/html": [
       "<a target='_blank' href='FRA_guyana_ok\\Nicaragua.pdf'>PDF Map of the world highlighting Nicaragua</a>"
      ],
      "text/plain": [
       "<IPython.core.display.HTML object>"
      ]
     },
     "metadata": {},
     "output_type": "display_data"
    },
    {
     "name": "stdout",
     "output_type": "stream",
     "text": [
      "skipping Niue. Map already exists.\n"
     ]
    },
    {
     "data": {
      "text/html": [
       "<a target='_blank' href='FRA_guyana_ok\\Netherlands.pdf'>PDF Map of the world highlighting Netherlands</a>"
      ],
      "text/plain": [
       "<IPython.core.display.HTML object>"
      ]
     },
     "metadata": {},
     "output_type": "display_data"
    },
    {
     "data": {
      "text/html": [
       "<a target='_blank' href='FRA_guyana_ok\\Norway.pdf'>PDF Map of the world highlighting Norway</a>"
      ],
      "text/plain": [
       "<IPython.core.display.HTML object>"
      ]
     },
     "metadata": {},
     "output_type": "display_data"
    },
    {
     "name": "stdout",
     "output_type": "stream",
     "text": [
      "skipping Nauru. Map already exists.\n"
     ]
    },
    {
     "data": {
      "text/html": [
       "<a target='_blank' href='FRA_guyana_ok\\Nepal.pdf'>PDF Map of the world highlighting Nepal</a>"
      ],
      "text/plain": [
       "<IPython.core.display.HTML object>"
      ]
     },
     "metadata": {},
     "output_type": "display_data"
    },
    {
     "data": {
      "text/html": [
       "<a target='_blank' href='FRA_guyana_ok\\New Zealand.pdf'>PDF Map of the world highlighting New Zealand</a>"
      ],
      "text/plain": [
       "<IPython.core.display.HTML object>"
      ]
     },
     "metadata": {},
     "output_type": "display_data"
    },
    {
     "data": {
      "text/html": [
       "<a target='_blank' href='FRA_guyana_ok\\Oman.pdf'>PDF Map of the world highlighting Oman</a>"
      ],
      "text/plain": [
       "<IPython.core.display.HTML object>"
      ]
     },
     "metadata": {},
     "output_type": "display_data"
    },
    {
     "data": {
      "text/html": [
       "<a target='_blank' href='FRA_guyana_ok\\Pakistan.pdf'>PDF Map of the world highlighting Pakistan</a>"
      ],
      "text/plain": [
       "<IPython.core.display.HTML object>"
      ]
     },
     "metadata": {},
     "output_type": "display_data"
    },
    {
     "data": {
      "text/html": [
       "<a target='_blank' href='FRA_guyana_ok\\Panama.pdf'>PDF Map of the world highlighting Panama</a>"
      ],
      "text/plain": [
       "<IPython.core.display.HTML object>"
      ]
     },
     "metadata": {},
     "output_type": "display_data"
    },
    {
     "data": {
      "text/html": [
       "<a target='_blank' href='FRA_guyana_ok\\Peru.pdf'>PDF Map of the world highlighting Peru</a>"
      ],
      "text/plain": [
       "<IPython.core.display.HTML object>"
      ]
     },
     "metadata": {},
     "output_type": "display_data"
    },
    {
     "data": {
      "text/html": [
       "<a target='_blank' href='FRA_guyana_ok\\Philippines.pdf'>PDF Map of the world highlighting Philippines</a>"
      ],
      "text/plain": [
       "<IPython.core.display.HTML object>"
      ]
     },
     "metadata": {},
     "output_type": "display_data"
    },
    {
     "data": {
      "text/html": [
       "<a target='_blank' href='FRA_guyana_ok\\Palau.pdf'>PDF Map of the world highlighting Palau</a>"
      ],
      "text/plain": [
       "<IPython.core.display.HTML object>"
      ]
     },
     "metadata": {},
     "output_type": "display_data"
    },
    {
     "data": {
      "text/html": [
       "<a target='_blank' href='FRA_guyana_ok\\Papua New Guinea.pdf'>PDF Map of the world highlighting Papua New Guinea</a>"
      ],
      "text/plain": [
       "<IPython.core.display.HTML object>"
      ]
     },
     "metadata": {},
     "output_type": "display_data"
    },
    {
     "data": {
      "text/html": [
       "<a target='_blank' href='FRA_guyana_ok\\Poland.pdf'>PDF Map of the world highlighting Poland</a>"
      ],
      "text/plain": [
       "<IPython.core.display.HTML object>"
      ]
     },
     "metadata": {},
     "output_type": "display_data"
    },
    {
     "data": {
      "text/html": [
       "<a target='_blank' href='FRA_guyana_ok\\Puerto Rico.pdf'>PDF Map of the world highlighting Puerto Rico</a>"
      ],
      "text/plain": [
       "<IPython.core.display.HTML object>"
      ]
     },
     "metadata": {},
     "output_type": "display_data"
    },
    {
     "data": {
      "text/html": [
       "<a target='_blank' href='FRA_guyana_ok\\Korea, Dem. Rep..pdf'>PDF Map of the world highlighting Korea, Dem. Rep.</a>"
      ],
      "text/plain": [
       "<IPython.core.display.HTML object>"
      ]
     },
     "metadata": {},
     "output_type": "display_data"
    },
    {
     "data": {
      "text/html": [
       "<a target='_blank' href='FRA_guyana_ok\\Portugal.pdf'>PDF Map of the world highlighting Portugal</a>"
      ],
      "text/plain": [
       "<IPython.core.display.HTML object>"
      ]
     },
     "metadata": {},
     "output_type": "display_data"
    },
    {
     "data": {
      "text/html": [
       "<a target='_blank' href='FRA_guyana_ok\\Paraguay.pdf'>PDF Map of the world highlighting Paraguay</a>"
      ],
      "text/plain": [
       "<IPython.core.display.HTML object>"
      ]
     },
     "metadata": {},
     "output_type": "display_data"
    },
    {
     "data": {
      "text/html": [
       "<a target='_blank' href='FRA_guyana_ok\\West Bank and Gaza.pdf'>PDF Map of the world highlighting West Bank and Gaza</a>"
      ],
      "text/plain": [
       "<IPython.core.display.HTML object>"
      ]
     },
     "metadata": {},
     "output_type": "display_data"
    },
    {
     "data": {
      "text/html": [
       "<a target='_blank' href='FRA_guyana_ok\\French Polynesia.pdf'>PDF Map of the world highlighting French Polynesia</a>"
      ],
      "text/plain": [
       "<IPython.core.display.HTML object>"
      ]
     },
     "metadata": {},
     "output_type": "display_data"
    },
    {
     "data": {
      "text/html": [
       "<a target='_blank' href='FRA_guyana_ok\\Qatar.pdf'>PDF Map of the world highlighting Qatar</a>"
      ],
      "text/plain": [
       "<IPython.core.display.HTML object>"
      ]
     },
     "metadata": {},
     "output_type": "display_data"
    },
    {
     "data": {
      "text/html": [
       "<a target='_blank' href='FRA_guyana_ok\\Romania.pdf'>PDF Map of the world highlighting Romania</a>"
      ],
      "text/plain": [
       "<IPython.core.display.HTML object>"
      ]
     },
     "metadata": {},
     "output_type": "display_data"
    },
    {
     "data": {
      "text/html": [
       "<a target='_blank' href='FRA_guyana_ok\\Russian Federation.pdf'>PDF Map of the world highlighting Russian Federation</a>"
      ],
      "text/plain": [
       "<IPython.core.display.HTML object>"
      ]
     },
     "metadata": {},
     "output_type": "display_data"
    },
    {
     "data": {
      "text/html": [
       "<a target='_blank' href='FRA_guyana_ok\\Rwanda.pdf'>PDF Map of the world highlighting Rwanda</a>"
      ],
      "text/plain": [
       "<IPython.core.display.HTML object>"
      ]
     },
     "metadata": {},
     "output_type": "display_data"
    },
    {
     "data": {
      "text/html": [
       "<a target='_blank' href='FRA_guyana_ok\\Saudi Arabia.pdf'>PDF Map of the world highlighting Saudi Arabia</a>"
      ],
      "text/plain": [
       "<IPython.core.display.HTML object>"
      ]
     },
     "metadata": {},
     "output_type": "display_data"
    },
    {
     "data": {
      "text/html": [
       "<a target='_blank' href='FRA_guyana_ok\\Sudan.pdf'>PDF Map of the world highlighting Sudan</a>"
      ],
      "text/plain": [
       "<IPython.core.display.HTML object>"
      ]
     },
     "metadata": {},
     "output_type": "display_data"
    },
    {
     "data": {
      "text/html": [
       "<a target='_blank' href='FRA_guyana_ok\\Senegal.pdf'>PDF Map of the world highlighting Senegal</a>"
      ],
      "text/plain": [
       "<IPython.core.display.HTML object>"
      ]
     },
     "metadata": {},
     "output_type": "display_data"
    },
    {
     "data": {
      "text/html": [
       "<a target='_blank' href='FRA_guyana_ok\\Singapore.pdf'>PDF Map of the world highlighting Singapore</a>"
      ],
      "text/plain": [
       "<IPython.core.display.HTML object>"
      ]
     },
     "metadata": {},
     "output_type": "display_data"
    },
    {
     "data": {
      "text/html": [
       "<a target='_blank' href='FRA_guyana_ok\\Solomon Islands.pdf'>PDF Map of the world highlighting Solomon Islands</a>"
      ],
      "text/plain": [
       "<IPython.core.display.HTML object>"
      ]
     },
     "metadata": {},
     "output_type": "display_data"
    },
    {
     "data": {
      "text/html": [
       "<a target='_blank' href='FRA_guyana_ok\\Sierra Leone.pdf'>PDF Map of the world highlighting Sierra Leone</a>"
      ],
      "text/plain": [
       "<IPython.core.display.HTML object>"
      ]
     },
     "metadata": {},
     "output_type": "display_data"
    },
    {
     "data": {
      "text/html": [
       "<a target='_blank' href='FRA_guyana_ok\\El Salvador.pdf'>PDF Map of the world highlighting El Salvador</a>"
      ],
      "text/plain": [
       "<IPython.core.display.HTML object>"
      ]
     },
     "metadata": {},
     "output_type": "display_data"
    },
    {
     "name": "stdout",
     "output_type": "stream",
     "text": [
      "skipping San Marino. Map already exists.\n",
      "skipping Somalia. Map already exists.\n"
     ]
    },
    {
     "data": {
      "text/html": [
       "<a target='_blank' href='FRA_guyana_ok\\Serbia.pdf'>PDF Map of the world highlighting Serbia</a>"
      ],
      "text/plain": [
       "<IPython.core.display.HTML object>"
      ]
     },
     "metadata": {},
     "output_type": "display_data"
    },
    {
     "data": {
      "text/html": [
       "<a target='_blank' href='FRA_guyana_ok\\South Sudan.pdf'>PDF Map of the world highlighting South Sudan</a>"
      ],
      "text/plain": [
       "<IPython.core.display.HTML object>"
      ]
     },
     "metadata": {},
     "output_type": "display_data"
    },
    {
     "data": {
      "text/html": [
       "<a target='_blank' href='FRA_guyana_ok\\Sao Tome and Principe.pdf'>PDF Map of the world highlighting Sao Tome and Principe</a>"
      ],
      "text/plain": [
       "<IPython.core.display.HTML object>"
      ]
     },
     "metadata": {},
     "output_type": "display_data"
    },
    {
     "name": "stdout",
     "output_type": "stream",
     "text": [
      "skipping Suriname. Map already exists.\n"
     ]
    },
    {
     "data": {
      "text/html": [
       "<a target='_blank' href='FRA_guyana_ok\\Slovak Republic.pdf'>PDF Map of the world highlighting Slovak Republic</a>"
      ],
      "text/plain": [
       "<IPython.core.display.HTML object>"
      ]
     },
     "metadata": {},
     "output_type": "display_data"
    },
    {
     "data": {
      "text/html": [
       "<a target='_blank' href='FRA_guyana_ok\\Slovenia.pdf'>PDF Map of the world highlighting Slovenia</a>"
      ],
      "text/plain": [
       "<IPython.core.display.HTML object>"
      ]
     },
     "metadata": {},
     "output_type": "display_data"
    },
    {
     "data": {
      "text/html": [
       "<a target='_blank' href='FRA_guyana_ok\\Sweden.pdf'>PDF Map of the world highlighting Sweden</a>"
      ],
      "text/plain": [
       "<IPython.core.display.HTML object>"
      ]
     },
     "metadata": {},
     "output_type": "display_data"
    },
    {
     "data": {
      "text/html": [
       "<a target='_blank' href='FRA_guyana_ok\\Swaziland.pdf'>PDF Map of the world highlighting Swaziland</a>"
      ],
      "text/plain": [
       "<IPython.core.display.HTML object>"
      ]
     },
     "metadata": {},
     "output_type": "display_data"
    },
    {
     "data": {
      "text/html": [
       "<a target='_blank' href='FRA_guyana_ok\\Sint Maarten (Dutch part).pdf'>PDF Map of the world highlighting Sint Maarten (Dutch part)</a>"
      ],
      "text/plain": [
       "<IPython.core.display.HTML object>"
      ]
     },
     "metadata": {},
     "output_type": "display_data"
    },
    {
     "data": {
      "text/html": [
       "<a target='_blank' href='FRA_guyana_ok\\Seychelles.pdf'>PDF Map of the world highlighting Seychelles</a>"
      ],
      "text/plain": [
       "<IPython.core.display.HTML object>"
      ]
     },
     "metadata": {},
     "output_type": "display_data"
    },
    {
     "data": {
      "text/html": [
       "<a target='_blank' href='FRA_guyana_ok\\Syrian Arab Republic.pdf'>PDF Map of the world highlighting Syrian Arab Republic</a>"
      ],
      "text/plain": [
       "<IPython.core.display.HTML object>"
      ]
     },
     "metadata": {},
     "output_type": "display_data"
    },
    {
     "data": {
      "text/html": [
       "<a target='_blank' href='FRA_guyana_ok\\Turks and Caicos Islands.pdf'>PDF Map of the world highlighting Turks and Caicos Islands</a>"
      ],
      "text/plain": [
       "<IPython.core.display.HTML object>"
      ]
     },
     "metadata": {},
     "output_type": "display_data"
    },
    {
     "data": {
      "text/html": [
       "<a target='_blank' href='FRA_guyana_ok\\Chad.pdf'>PDF Map of the world highlighting Chad</a>"
      ],
      "text/plain": [
       "<IPython.core.display.HTML object>"
      ]
     },
     "metadata": {},
     "output_type": "display_data"
    },
    {
     "data": {
      "text/html": [
       "<a target='_blank' href='FRA_guyana_ok\\Togo.pdf'>PDF Map of the world highlighting Togo</a>"
      ],
      "text/plain": [
       "<IPython.core.display.HTML object>"
      ]
     },
     "metadata": {},
     "output_type": "display_data"
    },
    {
     "data": {
      "text/html": [
       "<a target='_blank' href='FRA_guyana_ok\\Taiwan.pdf'>PDF Map of the world highlighting Taiwan</a>"
      ],
      "text/plain": [
       "<IPython.core.display.HTML object>"
      ]
     },
     "metadata": {},
     "output_type": "display_data"
    },
    {
     "data": {
      "text/html": [
       "<a target='_blank' href='FRA_guyana_ok\\Thailand.pdf'>PDF Map of the world highlighting Thailand</a>"
      ],
      "text/plain": [
       "<IPython.core.display.HTML object>"
      ]
     },
     "metadata": {},
     "output_type": "display_data"
    },
    {
     "data": {
      "text/html": [
       "<a target='_blank' href='FRA_guyana_ok\\Tajikistan.pdf'>PDF Map of the world highlighting Tajikistan</a>"
      ],
      "text/plain": [
       "<IPython.core.display.HTML object>"
      ]
     },
     "metadata": {},
     "output_type": "display_data"
    },
    {
     "data": {
      "text/html": [
       "<a target='_blank' href='FRA_guyana_ok\\Turkmenistan.pdf'>PDF Map of the world highlighting Turkmenistan</a>"
      ],
      "text/plain": [
       "<IPython.core.display.HTML object>"
      ]
     },
     "metadata": {},
     "output_type": "display_data"
    },
    {
     "data": {
      "text/html": [
       "<a target='_blank' href='FRA_guyana_ok\\Timor-Leste.pdf'>PDF Map of the world highlighting Timor-Leste</a>"
      ],
      "text/plain": [
       "<IPython.core.display.HTML object>"
      ]
     },
     "metadata": {},
     "output_type": "display_data"
    },
    {
     "data": {
      "text/html": [
       "<a target='_blank' href='FRA_guyana_ok\\Tonga.pdf'>PDF Map of the world highlighting Tonga</a>"
      ],
      "text/plain": [
       "<IPython.core.display.HTML object>"
      ]
     },
     "metadata": {},
     "output_type": "display_data"
    },
    {
     "data": {
      "text/html": [
       "<a target='_blank' href='FRA_guyana_ok\\Trinidad and Tobago.pdf'>PDF Map of the world highlighting Trinidad and Tobago</a>"
      ],
      "text/plain": [
       "<IPython.core.display.HTML object>"
      ]
     },
     "metadata": {},
     "output_type": "display_data"
    },
    {
     "data": {
      "text/html": [
       "<a target='_blank' href='FRA_guyana_ok\\Tunisia.pdf'>PDF Map of the world highlighting Tunisia</a>"
      ],
      "text/plain": [
       "<IPython.core.display.HTML object>"
      ]
     },
     "metadata": {},
     "output_type": "display_data"
    },
    {
     "data": {
      "text/html": [
       "<a target='_blank' href='FRA_guyana_ok\\Turkey.pdf'>PDF Map of the world highlighting Turkey</a>"
      ],
      "text/plain": [
       "<IPython.core.display.HTML object>"
      ]
     },
     "metadata": {},
     "output_type": "display_data"
    },
    {
     "data": {
      "text/html": [
       "<a target='_blank' href='FRA_guyana_ok\\Tuvalu.pdf'>PDF Map of the world highlighting Tuvalu</a>"
      ],
      "text/plain": [
       "<IPython.core.display.HTML object>"
      ]
     },
     "metadata": {},
     "output_type": "display_data"
    },
    {
     "data": {
      "text/html": [
       "<a target='_blank' href='FRA_guyana_ok\\Tanzania.pdf'>PDF Map of the world highlighting Tanzania</a>"
      ],
      "text/plain": [
       "<IPython.core.display.HTML object>"
      ]
     },
     "metadata": {},
     "output_type": "display_data"
    },
    {
     "data": {
      "text/html": [
       "<a target='_blank' href='FRA_guyana_ok\\Uganda.pdf'>PDF Map of the world highlighting Uganda</a>"
      ],
      "text/plain": [
       "<IPython.core.display.HTML object>"
      ]
     },
     "metadata": {},
     "output_type": "display_data"
    },
    {
     "data": {
      "text/html": [
       "<a target='_blank' href='FRA_guyana_ok\\Ukraine.pdf'>PDF Map of the world highlighting Ukraine</a>"
      ],
      "text/plain": [
       "<IPython.core.display.HTML object>"
      ]
     },
     "metadata": {},
     "output_type": "display_data"
    },
    {
     "data": {
      "text/html": [
       "<a target='_blank' href='FRA_guyana_ok\\Uruguay.pdf'>PDF Map of the world highlighting Uruguay</a>"
      ],
      "text/plain": [
       "<IPython.core.display.HTML object>"
      ]
     },
     "metadata": {},
     "output_type": "display_data"
    },
    {
     "data": {
      "text/html": [
       "<a target='_blank' href='FRA_guyana_ok\\United States.pdf'>PDF Map of the world highlighting United States</a>"
      ],
      "text/plain": [
       "<IPython.core.display.HTML object>"
      ]
     },
     "metadata": {},
     "output_type": "display_data"
    },
    {
     "data": {
      "text/html": [
       "<a target='_blank' href='FRA_guyana_ok\\Uzbekistan.pdf'>PDF Map of the world highlighting Uzbekistan</a>"
      ],
      "text/plain": [
       "<IPython.core.display.HTML object>"
      ]
     },
     "metadata": {},
     "output_type": "display_data"
    },
    {
     "data": {
      "text/html": [
       "<a target='_blank' href='FRA_guyana_ok\\St. Vincent and the Grenadines.pdf'>PDF Map of the world highlighting St. Vincent and the Grenadines</a>"
      ],
      "text/plain": [
       "<IPython.core.display.HTML object>"
      ]
     },
     "metadata": {},
     "output_type": "display_data"
    },
    {
     "data": {
      "text/html": [
       "<a target='_blank' href='FRA_guyana_ok\\Venezuela, RB.pdf'>PDF Map of the world highlighting Venezuela, RB</a>"
      ],
      "text/plain": [
       "<IPython.core.display.HTML object>"
      ]
     },
     "metadata": {},
     "output_type": "display_data"
    },
    {
     "data": {
      "text/html": [
       "<a target='_blank' href='FRA_guyana_ok\\Virgin Islands, British.pdf'>PDF Map of the world highlighting Virgin Islands, British</a>"
      ],
      "text/plain": [
       "<IPython.core.display.HTML object>"
      ]
     },
     "metadata": {},
     "output_type": "display_data"
    },
    {
     "data": {
      "text/html": [
       "<a target='_blank' href='FRA_guyana_ok\\Virgin Islands (U.S.).pdf'>PDF Map of the world highlighting Virgin Islands (U.S.)</a>"
      ],
      "text/plain": [
       "<IPython.core.display.HTML object>"
      ]
     },
     "metadata": {},
     "output_type": "display_data"
    },
    {
     "data": {
      "text/html": [
       "<a target='_blank' href='FRA_guyana_ok\\Vietnam.pdf'>PDF Map of the world highlighting Vietnam</a>"
      ],
      "text/plain": [
       "<IPython.core.display.HTML object>"
      ]
     },
     "metadata": {},
     "output_type": "display_data"
    },
    {
     "data": {
      "text/html": [
       "<a target='_blank' href='FRA_guyana_ok\\Vanuatu.pdf'>PDF Map of the world highlighting Vanuatu</a>"
      ],
      "text/plain": [
       "<IPython.core.display.HTML object>"
      ]
     },
     "metadata": {},
     "output_type": "display_data"
    },
    {
     "data": {
      "text/html": [
       "<a target='_blank' href='FRA_guyana_ok\\Samoa.pdf'>PDF Map of the world highlighting Samoa</a>"
      ],
      "text/plain": [
       "<IPython.core.display.HTML object>"
      ]
     },
     "metadata": {},
     "output_type": "display_data"
    },
    {
     "data": {
      "text/html": [
       "<a target='_blank' href='FRA_guyana_ok\\Yemen, Rep..pdf'>PDF Map of the world highlighting Yemen, Rep.</a>"
      ],
      "text/plain": [
       "<IPython.core.display.HTML object>"
      ]
     },
     "metadata": {},
     "output_type": "display_data"
    },
    {
     "data": {
      "text/html": [
       "<a target='_blank' href='FRA_guyana_ok\\South Africa.pdf'>PDF Map of the world highlighting South Africa</a>"
      ],
      "text/plain": [
       "<IPython.core.display.HTML object>"
      ]
     },
     "metadata": {},
     "output_type": "display_data"
    },
    {
     "data": {
      "text/html": [
       "<a target='_blank' href='FRA_guyana_ok\\Zambia.pdf'>PDF Map of the world highlighting Zambia</a>"
      ],
      "text/plain": [
       "<IPython.core.display.HTML object>"
      ]
     },
     "metadata": {},
     "output_type": "display_data"
    },
    {
     "data": {
      "text/html": [
       "<a target='_blank' href='FRA_guyana_ok\\Zimbabwe.pdf'>PDF Map of the world highlighting Zimbabwe</a>"
      ],
      "text/plain": [
       "<IPython.core.display.HTML object>"
      ]
     },
     "metadata": {},
     "output_type": "display_data"
    }
   ],
   "source": [
    "countries = pd.Series(0,index=iso_to_wb.index)\n",
    "countries.head()\n",
    "\n",
    "# for c in [\"AND\", \"COK\", \"LIE\", \"MCO\", \"MMR\", \"NIU\", \"NRU\", \"SMR\", \"SOM\", \"SUR\"]: #\"countries that where missing first\n",
    "for c in iso_to_wb.index: #all countries\n",
    "    s_country = countries.copy() \n",
    "    s_country = (s_country +pd.Series({c:1})).fillna(0)\n",
    "    \n",
    "    spelled_out_name = iso_to_wb.ix[c].country\n",
    "    \n",
    "    if any([os.path.isfile(os.path.join(outfolder_name,spelled_out_name+\".pdf\")), \n",
    "            os.path.isfile(os.path.join(outfolder_name,\"map_of_\"+spelled_out_name+\".pdf\"))]):\n",
    "           print(\"skipping {c}. Map already exists.\".format(c=spelled_out_name))\n",
    "    else:\n",
    "        make_map_from_svg(\n",
    "            series_in=s_country, #data \n",
    "            svg_file_path=\"world-original_thin.svg\",    #path to blank map\n",
    "    #         svg_file_path  = \"world-color.svg\",\n",
    "            outname=spelled_out_name,           #base name for output  (will vreate img/map_of_asset_risk.png, img/legend_of_asset_risk.png, etc.)\n",
    "            bins = [-1,0.5,2],\n",
    "            bincolors = [\"#b7e1da\",\"#ffffff\"],\n",
    "            label=spelled_out_name,\n",
    "            new_title=\"Map of the world highlighting \"+spelled_out_name,#title for the colored SVG\n",
    "            outfolder=outfolder_name,\n",
    "            verbose=True,\n",
    "            doPNG=False\n",
    "        )\n",
    "    \n",
    "    "
   ]
  },
  {
   "cell_type": "markdown",
   "metadata": {},
   "source": [
    "## EU"
   ]
  },
  {
   "cell_type": "code",
   "execution_count": 37,
   "metadata": {
    "collapsed": false,
    "run_control": {
     "frozen": false,
     "read_only": false
    }
   },
   "outputs": [
    {
     "name": "stdout",
     "output_type": "stream",
     "text": [
      "AUT, BEL, BGR, HRV, CYP, CZE, DNK, EST, FIN, FRA, DEU, GRC, HUN, IRL, ITA, LVA, LTU, LUX, MLT, NLD, POL, PRT, ROU, SVK, SVN, ESP, SWE, GBR\n"
     ]
    },
    {
     "data": {
      "text/html": [
       "<a target='_blank' href='Boundaries_in_asia_and_more_detail\\european_union.pdf'>PDF Map of the world highlighting European Union</a>"
      ],
      "text/plain": [
       "<IPython.core.display.HTML object>"
      ]
     },
     "metadata": {},
     "output_type": "display_data"
    }
   ],
   "source": [
    "list_of_EU = [\"Austria\" ,\"Belgium\" ,\"Bulgaria\" ,\"Croatia\" ,\"Cyprus\" ,\"Czech Republic\" ,\"Denmark\" ,\"Estonia\" ,\"Finland\" ,\"France\" ,\"Germany\" ,\"Greece\" ,\n",
    "              \"Hungary\" ,\"Ireland\" ,\"Italy\" ,\"Latvia\" ,\"Lithuania\" ,\"Luxembourg\" ,\"Malta\" ,\"Netherlands\" ,\n",
    "              \"Poland\" ,\"Portugal\" ,\"Romania\" ,\"Slovakia\" ,\"Slovenia\" ,\"Spain\" ,\"Sweden\" ,\"United Kingdom\" ]\n",
    "\n",
    "any_name_to_wb_name = pd.read_csv(\"https://raw.githubusercontent.com/adrivsh/country_names/master/names_to_iso.csv\",\n",
    "                                  index_col = \"country\").iso3\n",
    "\n",
    "eu_isos = any_name_to_wb_name[list_of_EU]\n",
    "print(\", \".join(eu_isos))\n",
    "\n",
    "\n",
    "s_country = countries.copy() \n",
    "s_country = (s_country +pd.Series(1, index=eu_isos)).fillna(0)\n",
    "\n",
    "make_map_from_svg(\n",
    "        series_in=s_country, #data \n",
    "        svg_file_path=\"world-original_thin.svg\",    #path to blank map\n",
    "#         svg_file_path  = \"world-color.svg\",\n",
    "        outname=\"european_union\",           #base name for output  (will vreate img/map_of_asset_risk.png, img/legend_of_asset_risk.png, etc.)\n",
    "        bins = [-1,0.5,2],\n",
    "        bincolors = [\"#b7e1da\",\"#ffffff\"],\n",
    "        label=\"European Union\",\n",
    "        new_title=\"Map of the world highlighting European Union\",\n",
    "        outfolder=outfolder_name,\n",
    "        verbose=True,\n",
    "        doPNG=False\n",
    "    )\n",
    "    \n",
    "    "
   ]
  },
  {
   "cell_type": "markdown",
   "metadata": {},
   "source": [
    "# Post treatment"
   ]
  },
  {
   "cell_type": "code",
   "execution_count": 27,
   "metadata": {
    "collapsed": false,
    "run_control": {
     "frozen": false,
     "read_only": false
    }
   },
   "outputs": [],
   "source": [
    "#removes \"map_of_\" from the filenames (if any)\n",
    "import os\n",
    "import glob\n",
    "for f in glob.glob(\"*/map_of_*\"):\n",
    "    nu =f.replace(\"map_of_\",\"\")\n",
    "    if os.path.isfile(nu):\n",
    "        os.remove(nu)\n",
    "    os.rename(f,nu)\n"
   ]
  },
  {
   "cell_type": "code",
   "execution_count": null,
   "metadata": {
    "collapsed": true,
    "run_control": {
     "frozen": false,
     "read_only": false
    }
   },
   "outputs": [],
   "source": []
  },
  {
   "cell_type": "code",
   "execution_count": null,
   "metadata": {
    "collapsed": true,
    "run_control": {
     "frozen": false,
     "read_only": false
    }
   },
   "outputs": [],
   "source": []
  }
 ],
 "metadata": {
  "kernelspec": {
   "display_name": "Python 3",
   "language": "python",
   "name": "python3"
  },
  "language_info": {
   "codemirror_mode": {
    "name": "ipython",
    "version": 3
   },
   "file_extension": ".py",
   "mimetype": "text/x-python",
   "name": "python",
   "nbconvert_exporter": "python",
   "pygments_lexer": "ipython3",
   "version": "3.4.4"
  },
  "nav_menu": {},
  "notify_time": "5",
  "toc": {
   "navigate_menu": true,
   "number_sections": true,
   "sideBar": true,
   "threshold": 6,
   "toc_cell": false,
   "toc_section_display": "block",
   "toc_window_display": false
  }
 },
 "nbformat": 4,
 "nbformat_minor": 0
}
